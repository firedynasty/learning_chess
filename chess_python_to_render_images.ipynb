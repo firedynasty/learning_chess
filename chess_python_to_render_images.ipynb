{
 "cells": [
  {
   "cell_type": "code",
   "execution_count": 3,
   "id": "cb36c5a8-eb52-4381-a396-315f959131ce",
   "metadata": {},
   "outputs": [],
   "source": [
    "import pandas as pd"
   ]
  },
  {
   "cell_type": "code",
   "execution_count": 1,
   "id": "3b95963c-261a-4687-b61f-296ae7b9b447",
   "metadata": {},
   "outputs": [
    {
     "ename": "ModuleNotFoundError",
     "evalue": "No module named 'chess'",
     "output_type": "error",
     "traceback": [
      "\u001b[0;31m---------------------------------------------------------------------------\u001b[0m",
      "\u001b[0;31mModuleNotFoundError\u001b[0m                       Traceback (most recent call last)",
      "Cell \u001b[0;32mIn[1], line 1\u001b[0m\n\u001b[0;32m----> 1\u001b[0m \u001b[38;5;28;01mimport\u001b[39;00m \u001b[38;5;21;01mchess\u001b[39;00m\n",
      "\u001b[0;31mModuleNotFoundError\u001b[0m: No module named 'chess'"
     ]
    }
   ],
   "source": [
    "import chess"
   ]
  },
  {
   "cell_type": "code",
   "execution_count": 3,
   "id": "ed8afbc5-7392-4b03-be78-fe27a00dfbdd",
   "metadata": {},
   "outputs": [
    {
     "name": "stdout",
     "output_type": "stream",
     "text": [
      "Collecting chess\n",
      "  Downloading chess-1.10.0-py3-none-any.whl.metadata (19 kB)\n",
      "Downloading chess-1.10.0-py3-none-any.whl (154 kB)\n",
      "\u001b[2K   \u001b[90m━━━━━━━━━━━━━━━━━━━━━━━━━━━━━━━━━━━━━━━━\u001b[0m \u001b[32m154.4/154.4 kB\u001b[0m \u001b[31m5.1 MB/s\u001b[0m eta \u001b[36m0:00:00\u001b[0m\n",
      "\u001b[?25hInstalling collected packages: chess\n",
      "Successfully installed chess-1.10.0\n",
      "Note: you may need to restart the kernel to use updated packages.\n"
     ]
    }
   ],
   "source": [
    "pip install chess"
   ]
  },
  {
   "cell_type": "code",
   "execution_count": 4,
   "id": "6d8675f2-2f23-4377-9098-0f82a56e0b2f",
   "metadata": {},
   "outputs": [
    {
     "name": "stdout",
     "output_type": "stream",
     "text": [
      "Collecting cairosvg\n",
      "  Downloading CairoSVG-2.7.1-py3-none-any.whl.metadata (2.7 kB)\n",
      "Collecting cairocffi (from cairosvg)\n",
      "  Downloading cairocffi-1.7.1-py3-none-any.whl.metadata (3.3 kB)\n",
      "Collecting cssselect2 (from cairosvg)\n",
      "  Downloading cssselect2-0.7.0-py3-none-any.whl.metadata (2.9 kB)\n",
      "Requirement already satisfied: defusedxml in ./anaconda3/envs/test/lib/python3.11/site-packages (from cairosvg) (0.7.1)\n",
      "Collecting pillow (from cairosvg)\n",
      "  Downloading pillow-10.4.0-cp311-cp311-macosx_11_0_arm64.whl.metadata (9.2 kB)\n",
      "Requirement already satisfied: tinycss2 in ./anaconda3/envs/test/lib/python3.11/site-packages (from cairosvg) (1.2.1)\n",
      "Requirement already satisfied: cffi>=1.1.0 in ./anaconda3/envs/test/lib/python3.11/site-packages (from cairocffi->cairosvg) (1.16.0)\n",
      "Requirement already satisfied: webencodings in ./anaconda3/envs/test/lib/python3.11/site-packages (from cssselect2->cairosvg) (0.5.1)\n",
      "Requirement already satisfied: pycparser in ./anaconda3/envs/test/lib/python3.11/site-packages (from cffi>=1.1.0->cairocffi->cairosvg) (2.21)\n",
      "Downloading CairoSVG-2.7.1-py3-none-any.whl (43 kB)\n",
      "\u001b[2K   \u001b[90m━━━━━━━━━━━━━━━━━━━━━━━━━━━━━━━━━━━━━━━━\u001b[0m \u001b[32m43.2/43.2 kB\u001b[0m \u001b[31m3.9 MB/s\u001b[0m eta \u001b[36m0:00:00\u001b[0m\n",
      "\u001b[?25hDownloading cairocffi-1.7.1-py3-none-any.whl (75 kB)\n",
      "\u001b[2K   \u001b[90m━━━━━━━━━━━━━━━━━━━━━━━━━━━━━━━━━━━━━━━━\u001b[0m \u001b[32m75.6/75.6 kB\u001b[0m \u001b[31m7.3 MB/s\u001b[0m eta \u001b[36m0:00:00\u001b[0m\n",
      "\u001b[?25hDownloading cssselect2-0.7.0-py3-none-any.whl (15 kB)\n",
      "Downloading pillow-10.4.0-cp311-cp311-macosx_11_0_arm64.whl (3.4 MB)\n",
      "\u001b[2K   \u001b[90m━━━━━━━━━━━━━━━━━━━━━━━━━━━━━━━━━━━━━━━━\u001b[0m \u001b[32m3.4/3.4 MB\u001b[0m \u001b[31m39.1 MB/s\u001b[0m eta \u001b[36m0:00:00\u001b[0ma \u001b[36m0:00:01\u001b[0m\n",
      "\u001b[?25hInstalling collected packages: pillow, cssselect2, cairocffi, cairosvg\n",
      "Successfully installed cairocffi-1.7.1 cairosvg-2.7.1 cssselect2-0.7.0 pillow-10.4.0\n",
      "Note: you may need to restart the kernel to use updated packages.\n"
     ]
    }
   ],
   "source": [
    "pip install cairosvg"
   ]
  },
  {
   "cell_type": "code",
   "execution_count": 6,
   "id": "644d860d-5090-424c-b3b5-123ea01fa180",
   "metadata": {},
   "outputs": [
    {
     "ename": "OSError",
     "evalue": "no library called \"cairo-2\" was found\nno library called \"cairo\" was found\nno library called \"libcairo-2\" was found\ncannot load library 'libcairo.so.2': dlopen(libcairo.so.2, 0x0002): tried: 'libcairo.so.2' (no such file), '/System/Volumes/Preboot/Cryptexes/OSlibcairo.so.2' (no such file), '/Users/stanleytan/anaconda3/envs/test/lib/python3.11/site-packages/../../libcairo.so.2' (no such file), '/Users/stanleytan/anaconda3/envs/test/bin/../lib/libcairo.so.2' (no such file), '/usr/lib/libcairo.so.2' (no such file, not in dyld cache), 'libcairo.so.2' (no such file), '/usr/local/lib/libcairo.so.2' (no such file), '/usr/lib/libcairo.so.2' (no such file, not in dyld cache).  Additionally, ctypes.util.find_library() did not manage to locate a library called 'libcairo.so.2'\ncannot load library 'libcairo.2.dylib': dlopen(libcairo.2.dylib, 0x0002): tried: 'libcairo.2.dylib' (no such file), '/System/Volumes/Preboot/Cryptexes/OSlibcairo.2.dylib' (no such file), '/Users/stanleytan/anaconda3/envs/test/lib/python3.11/site-packages/../../libcairo.2.dylib' (no such file), '/Users/stanleytan/anaconda3/envs/test/bin/../lib/libcairo.2.dylib' (no such file), '/usr/lib/libcairo.2.dylib' (no such file, not in dyld cache), 'libcairo.2.dylib' (no such file), '/usr/local/lib/libcairo.2.dylib' (no such file), '/usr/lib/libcairo.2.dylib' (no such file, not in dyld cache).  Additionally, ctypes.util.find_library() did not manage to locate a library called 'libcairo.2.dylib'\ncannot load library 'libcairo-2.dll': dlopen(libcairo-2.dll, 0x0002): tried: 'libcairo-2.dll' (no such file), '/System/Volumes/Preboot/Cryptexes/OSlibcairo-2.dll' (no such file), '/Users/stanleytan/anaconda3/envs/test/lib/python3.11/site-packages/../../libcairo-2.dll' (no such file), '/Users/stanleytan/anaconda3/envs/test/bin/../lib/libcairo-2.dll' (no such file), '/usr/lib/libcairo-2.dll' (no such file, not in dyld cache), 'libcairo-2.dll' (no such file), '/usr/local/lib/libcairo-2.dll' (no such file), '/usr/lib/libcairo-2.dll' (no such file, not in dyld cache).  Additionally, ctypes.util.find_library() did not manage to locate a library called 'libcairo-2.dll'",
     "output_type": "error",
     "traceback": [
      "\u001b[0;31m---------------------------------------------------------------------------\u001b[0m",
      "\u001b[0;31mOSError\u001b[0m                                   Traceback (most recent call last)",
      "Cell \u001b[0;32mIn[6], line 3\u001b[0m\n\u001b[1;32m      1\u001b[0m \u001b[38;5;28;01mimport\u001b[39;00m \u001b[38;5;21;01mchess\u001b[39;00m\n\u001b[1;32m      2\u001b[0m \u001b[38;5;28;01mimport\u001b[39;00m \u001b[38;5;21;01mchess\u001b[39;00m\u001b[38;5;21;01m.\u001b[39;00m\u001b[38;5;21;01msvg\u001b[39;00m\n\u001b[0;32m----> 3\u001b[0m \u001b[38;5;28;01mimport\u001b[39;00m \u001b[38;5;21;01mcairosvg\u001b[39;00m\n\u001b[1;32m      5\u001b[0m \u001b[38;5;66;03m# Create a chess board with a specific position\u001b[39;00m\n\u001b[1;32m      6\u001b[0m board \u001b[38;5;241m=\u001b[39m chess\u001b[38;5;241m.\u001b[39mBoard(\u001b[38;5;124m\"\u001b[39m\u001b[38;5;124mrn1qkb1r/ppp1pppp/8/3pP3/2Bn4/5N2/PPP2PPP/R1BQK2R w KQkq - 0 1\u001b[39m\u001b[38;5;124m\"\u001b[39m)\n",
      "File \u001b[0;32m~/anaconda3/envs/test/lib/python3.11/site-packages/cairosvg/__init__.py:26\u001b[0m\n\u001b[1;32m     22\u001b[0m VERSION \u001b[38;5;241m=\u001b[39m __version__ \u001b[38;5;241m=\u001b[39m (ROOT \u001b[38;5;241m/\u001b[39m \u001b[38;5;124m'\u001b[39m\u001b[38;5;124mVERSION\u001b[39m\u001b[38;5;124m'\u001b[39m)\u001b[38;5;241m.\u001b[39mread_text()\u001b[38;5;241m.\u001b[39mstrip()\n\u001b[1;32m     25\u001b[0m \u001b[38;5;66;03m# VERSION is used in the \"url\" module imported by \"surface\"\u001b[39;00m\n\u001b[0;32m---> 26\u001b[0m \u001b[38;5;28;01mfrom\u001b[39;00m \u001b[38;5;21;01m.\u001b[39;00m \u001b[38;5;28;01mimport\u001b[39;00m surface  \u001b[38;5;66;03m# noqa isort:skip\u001b[39;00m\n\u001b[1;32m     29\u001b[0m SURFACES \u001b[38;5;241m=\u001b[39m {\n\u001b[1;32m     30\u001b[0m     \u001b[38;5;124m'\u001b[39m\u001b[38;5;124mPDF\u001b[39m\u001b[38;5;124m'\u001b[39m: surface\u001b[38;5;241m.\u001b[39mPDFSurface,\n\u001b[1;32m     31\u001b[0m     \u001b[38;5;124m'\u001b[39m\u001b[38;5;124mPNG\u001b[39m\u001b[38;5;124m'\u001b[39m: surface\u001b[38;5;241m.\u001b[39mPNGSurface,\n\u001b[0;32m   (...)\u001b[0m\n\u001b[1;32m     34\u001b[0m     \u001b[38;5;124m'\u001b[39m\u001b[38;5;124mSVG\u001b[39m\u001b[38;5;124m'\u001b[39m: surface\u001b[38;5;241m.\u001b[39mSVGSurface,\n\u001b[1;32m     35\u001b[0m }\n\u001b[1;32m     38\u001b[0m \u001b[38;5;28;01mdef\u001b[39;00m \u001b[38;5;21msvg2svg\u001b[39m(bytestring\u001b[38;5;241m=\u001b[39m\u001b[38;5;28;01mNone\u001b[39;00m, \u001b[38;5;241m*\u001b[39m, file_obj\u001b[38;5;241m=\u001b[39m\u001b[38;5;28;01mNone\u001b[39;00m, url\u001b[38;5;241m=\u001b[39m\u001b[38;5;28;01mNone\u001b[39;00m, dpi\u001b[38;5;241m=\u001b[39m\u001b[38;5;241m96\u001b[39m,\n\u001b[1;32m     39\u001b[0m             parent_width\u001b[38;5;241m=\u001b[39m\u001b[38;5;28;01mNone\u001b[39;00m, parent_height\u001b[38;5;241m=\u001b[39m\u001b[38;5;28;01mNone\u001b[39;00m, scale\u001b[38;5;241m=\u001b[39m\u001b[38;5;241m1\u001b[39m, unsafe\u001b[38;5;241m=\u001b[39m\u001b[38;5;28;01mFalse\u001b[39;00m,\n\u001b[1;32m     40\u001b[0m             background_color\u001b[38;5;241m=\u001b[39m\u001b[38;5;28;01mNone\u001b[39;00m, negate_colors\u001b[38;5;241m=\u001b[39m\u001b[38;5;28;01mFalse\u001b[39;00m, invert_images\u001b[38;5;241m=\u001b[39m\u001b[38;5;28;01mFalse\u001b[39;00m,\n\u001b[1;32m     41\u001b[0m             write_to\u001b[38;5;241m=\u001b[39m\u001b[38;5;28;01mNone\u001b[39;00m, output_width\u001b[38;5;241m=\u001b[39m\u001b[38;5;28;01mNone\u001b[39;00m, output_height\u001b[38;5;241m=\u001b[39m\u001b[38;5;28;01mNone\u001b[39;00m):\n",
      "File \u001b[0;32m~/anaconda3/envs/test/lib/python3.11/site-packages/cairosvg/surface.py:9\u001b[0m\n\u001b[1;32m      6\u001b[0m \u001b[38;5;28;01mimport\u001b[39;00m \u001b[38;5;21;01mcopy\u001b[39;00m\n\u001b[1;32m      7\u001b[0m \u001b[38;5;28;01mimport\u001b[39;00m \u001b[38;5;21;01mio\u001b[39;00m\n\u001b[0;32m----> 9\u001b[0m \u001b[38;5;28;01mimport\u001b[39;00m \u001b[38;5;21;01mcairocffi\u001b[39;00m \u001b[38;5;28;01mas\u001b[39;00m \u001b[38;5;21;01mcairo\u001b[39;00m\n\u001b[1;32m     11\u001b[0m \u001b[38;5;28;01mfrom\u001b[39;00m \u001b[38;5;21;01m.\u001b[39;00m\u001b[38;5;21;01mcolors\u001b[39;00m \u001b[38;5;28;01mimport\u001b[39;00m color, negate_color\n\u001b[1;32m     12\u001b[0m \u001b[38;5;28;01mfrom\u001b[39;00m \u001b[38;5;21;01m.\u001b[39;00m\u001b[38;5;21;01mdefs\u001b[39;00m \u001b[38;5;28;01mimport\u001b[39;00m (\n\u001b[1;32m     13\u001b[0m     apply_filter_after_painting, apply_filter_before_painting, clip_path,\n\u001b[1;32m     14\u001b[0m     filter_, gradient_or_pattern, linear_gradient, marker, mask, paint_mask,\n\u001b[1;32m     15\u001b[0m     parse_all_defs, pattern, prepare_filter, radial_gradient, use)\n",
      "File \u001b[0;32m~/anaconda3/envs/test/lib/python3.11/site-packages/cairocffi/__init__.py:60\u001b[0m\n\u001b[1;32m     55\u001b[0m     error_message \u001b[38;5;241m=\u001b[39m \u001b[38;5;124m'\u001b[39m\u001b[38;5;130;01m\\n\u001b[39;00m\u001b[38;5;124m'\u001b[39m\u001b[38;5;241m.\u001b[39mjoin(  \u001b[38;5;66;03m# pragma: no cover\u001b[39;00m\n\u001b[1;32m     56\u001b[0m         \u001b[38;5;28mstr\u001b[39m(exception) \u001b[38;5;28;01mfor\u001b[39;00m exception \u001b[38;5;129;01min\u001b[39;00m exceptions)\n\u001b[1;32m     57\u001b[0m     \u001b[38;5;28;01mraise\u001b[39;00m \u001b[38;5;167;01mOSError\u001b[39;00m(error_message)  \u001b[38;5;66;03m# pragma: no cover\u001b[39;00m\n\u001b[0;32m---> 60\u001b[0m cairo \u001b[38;5;241m=\u001b[39m dlopen(\n\u001b[1;32m     61\u001b[0m     ffi, (\u001b[38;5;124m'\u001b[39m\u001b[38;5;124mcairo-2\u001b[39m\u001b[38;5;124m'\u001b[39m, \u001b[38;5;124m'\u001b[39m\u001b[38;5;124mcairo\u001b[39m\u001b[38;5;124m'\u001b[39m, \u001b[38;5;124m'\u001b[39m\u001b[38;5;124mlibcairo-2\u001b[39m\u001b[38;5;124m'\u001b[39m),\n\u001b[1;32m     62\u001b[0m     (\u001b[38;5;124m'\u001b[39m\u001b[38;5;124mlibcairo.so.2\u001b[39m\u001b[38;5;124m'\u001b[39m, \u001b[38;5;124m'\u001b[39m\u001b[38;5;124mlibcairo.2.dylib\u001b[39m\u001b[38;5;124m'\u001b[39m, \u001b[38;5;124m'\u001b[39m\u001b[38;5;124mlibcairo-2.dll\u001b[39m\u001b[38;5;124m'\u001b[39m))\n\u001b[1;32m     65\u001b[0m \u001b[38;5;28;01mclass\u001b[39;00m \u001b[38;5;21;01m_keepref\u001b[39;00m(\u001b[38;5;28mobject\u001b[39m):  \u001b[38;5;66;03m# noqa: N801\u001b[39;00m\n\u001b[1;32m     66\u001b[0m \u001b[38;5;250m    \u001b[39m\u001b[38;5;124;03m\"\"\"Function wrapper that keeps a reference to another object.\"\"\"\u001b[39;00m\n",
      "File \u001b[0;32m~/anaconda3/envs/test/lib/python3.11/site-packages/cairocffi/__init__.py:57\u001b[0m, in \u001b[0;36mdlopen\u001b[0;34m(ffi, library_names, filenames)\u001b[0m\n\u001b[1;32m     53\u001b[0m         exceptions\u001b[38;5;241m.\u001b[39mappend(exception)\n\u001b[1;32m     55\u001b[0m error_message \u001b[38;5;241m=\u001b[39m \u001b[38;5;124m'\u001b[39m\u001b[38;5;130;01m\\n\u001b[39;00m\u001b[38;5;124m'\u001b[39m\u001b[38;5;241m.\u001b[39mjoin(  \u001b[38;5;66;03m# pragma: no cover\u001b[39;00m\n\u001b[1;32m     56\u001b[0m     \u001b[38;5;28mstr\u001b[39m(exception) \u001b[38;5;28;01mfor\u001b[39;00m exception \u001b[38;5;129;01min\u001b[39;00m exceptions)\n\u001b[0;32m---> 57\u001b[0m \u001b[38;5;28;01mraise\u001b[39;00m \u001b[38;5;167;01mOSError\u001b[39;00m(error_message)\n",
      "\u001b[0;31mOSError\u001b[0m: no library called \"cairo-2\" was found\nno library called \"cairo\" was found\nno library called \"libcairo-2\" was found\ncannot load library 'libcairo.so.2': dlopen(libcairo.so.2, 0x0002): tried: 'libcairo.so.2' (no such file), '/System/Volumes/Preboot/Cryptexes/OSlibcairo.so.2' (no such file), '/Users/stanleytan/anaconda3/envs/test/lib/python3.11/site-packages/../../libcairo.so.2' (no such file), '/Users/stanleytan/anaconda3/envs/test/bin/../lib/libcairo.so.2' (no such file), '/usr/lib/libcairo.so.2' (no such file, not in dyld cache), 'libcairo.so.2' (no such file), '/usr/local/lib/libcairo.so.2' (no such file), '/usr/lib/libcairo.so.2' (no such file, not in dyld cache).  Additionally, ctypes.util.find_library() did not manage to locate a library called 'libcairo.so.2'\ncannot load library 'libcairo.2.dylib': dlopen(libcairo.2.dylib, 0x0002): tried: 'libcairo.2.dylib' (no such file), '/System/Volumes/Preboot/Cryptexes/OSlibcairo.2.dylib' (no such file), '/Users/stanleytan/anaconda3/envs/test/lib/python3.11/site-packages/../../libcairo.2.dylib' (no such file), '/Users/stanleytan/anaconda3/envs/test/bin/../lib/libcairo.2.dylib' (no such file), '/usr/lib/libcairo.2.dylib' (no such file, not in dyld cache), 'libcairo.2.dylib' (no such file), '/usr/local/lib/libcairo.2.dylib' (no such file), '/usr/lib/libcairo.2.dylib' (no such file, not in dyld cache).  Additionally, ctypes.util.find_library() did not manage to locate a library called 'libcairo.2.dylib'\ncannot load library 'libcairo-2.dll': dlopen(libcairo-2.dll, 0x0002): tried: 'libcairo-2.dll' (no such file), '/System/Volumes/Preboot/Cryptexes/OSlibcairo-2.dll' (no such file), '/Users/stanleytan/anaconda3/envs/test/lib/python3.11/site-packages/../../libcairo-2.dll' (no such file), '/Users/stanleytan/anaconda3/envs/test/bin/../lib/libcairo-2.dll' (no such file), '/usr/lib/libcairo-2.dll' (no such file, not in dyld cache), 'libcairo-2.dll' (no such file), '/usr/local/lib/libcairo-2.dll' (no such file), '/usr/lib/libcairo-2.dll' (no such file, not in dyld cache).  Additionally, ctypes.util.find_library() did not manage to locate a library called 'libcairo-2.dll'"
     ]
    }
   ],
   "source": [
    "import chess\n",
    "import chess.svg\n",
    "import cairosvg\n",
    "\n",
    "# Create a chess board with a specific position\n",
    "board = chess.Board(\"rn1qkb1r/ppp1pppp/8/3pP3/2Bn4/5N2/PPP2PPP/R1BQK2R w KQkq - 0 1\")\n",
    "\n",
    "# Generate the SVG representation of the board\n",
    "svg = chess.svg.board(board, size=350)\n",
    "\n",
    "# Convert SVG to PDF\n",
    "cairosvg.svg2pdf(bytestring=svg, write_to='chess_position.pdf')\n",
    "\n",
    "print(\"PDF of the chess position created successfully!\")"
   ]
  },
  {
   "cell_type": "code",
   "execution_count": 7,
   "id": "aae2f0af-e448-4566-a0e8-1cc9f9a62734",
   "metadata": {},
   "outputs": [
    {
     "name": "stdout",
     "output_type": "stream",
     "text": [
      "Requirement already satisfied: chess in ./anaconda3/envs/test/lib/python3.11/site-packages (1.10.0)\n",
      "Requirement already satisfied: cairosvg in ./anaconda3/envs/test/lib/python3.11/site-packages (2.7.1)\n",
      "Requirement already satisfied: cairocffi in ./anaconda3/envs/test/lib/python3.11/site-packages (from cairosvg) (1.7.1)\n",
      "Requirement already satisfied: cssselect2 in ./anaconda3/envs/test/lib/python3.11/site-packages (from cairosvg) (0.7.0)\n",
      "Requirement already satisfied: defusedxml in ./anaconda3/envs/test/lib/python3.11/site-packages (from cairosvg) (0.7.1)\n",
      "Requirement already satisfied: pillow in ./anaconda3/envs/test/lib/python3.11/site-packages (from cairosvg) (10.4.0)\n",
      "Requirement already satisfied: tinycss2 in ./anaconda3/envs/test/lib/python3.11/site-packages (from cairosvg) (1.2.1)\n",
      "Requirement already satisfied: cffi>=1.1.0 in ./anaconda3/envs/test/lib/python3.11/site-packages (from cairocffi->cairosvg) (1.16.0)\n",
      "Requirement already satisfied: webencodings in ./anaconda3/envs/test/lib/python3.11/site-packages (from cssselect2->cairosvg) (0.5.1)\n",
      "Requirement already satisfied: pycparser in ./anaconda3/envs/test/lib/python3.11/site-packages (from cffi>=1.1.0->cairocffi->cairosvg) (2.21)\n",
      "Note: you may need to restart the kernel to use updated packages.\n"
     ]
    }
   ],
   "source": [
    "pip install chess cairosvg"
   ]
  },
  {
   "cell_type": "code",
   "execution_count": 8,
   "id": "77c934a4-45b0-4802-b084-ed9fcd5f95c8",
   "metadata": {},
   "outputs": [
    {
     "name": "stdout",
     "output_type": "stream",
     "text": [
      "Requirement already satisfied: chess in ./anaconda3/envs/test/lib/python3.11/site-packages (1.10.0)\n",
      "Collecting svglib\n",
      "  Downloading svglib-1.5.1.tar.gz (913 kB)\n",
      "\u001b[2K     \u001b[90m━━━━━━━━━━━━━━━━━━━━━━━━━━━━━━━━━━━━━━\u001b[0m \u001b[32m913.9/913.9 kB\u001b[0m \u001b[31m17.3 MB/s\u001b[0m eta \u001b[36m0:00:00\u001b[0ma \u001b[36m0:00:01\u001b[0m\n",
      "\u001b[?25h  Preparing metadata (setup.py) ... \u001b[?25ldone\n",
      "\u001b[?25hCollecting reportlab\n",
      "  Downloading reportlab-4.2.2-py3-none-any.whl.metadata (1.4 kB)\n",
      "Collecting lxml (from svglib)\n",
      "  Downloading lxml-5.2.2-cp311-cp311-macosx_10_9_universal2.whl.metadata (3.4 kB)\n",
      "Requirement already satisfied: tinycss2>=0.6.0 in ./anaconda3/envs/test/lib/python3.11/site-packages (from svglib) (1.2.1)\n",
      "Requirement already satisfied: cssselect2>=0.2.0 in ./anaconda3/envs/test/lib/python3.11/site-packages (from svglib) (0.7.0)\n",
      "Requirement already satisfied: pillow>=9.0.0 in ./anaconda3/envs/test/lib/python3.11/site-packages (from reportlab) (10.4.0)\n",
      "Collecting chardet (from reportlab)\n",
      "  Downloading chardet-5.2.0-py3-none-any.whl.metadata (3.4 kB)\n",
      "Requirement already satisfied: webencodings in ./anaconda3/envs/test/lib/python3.11/site-packages (from cssselect2>=0.2.0->svglib) (0.5.1)\n",
      "Downloading reportlab-4.2.2-py3-none-any.whl (1.9 MB)\n",
      "\u001b[2K   \u001b[90m━━━━━━━━━━━━━━━━━━━━━━━━━━━━━━━━━━━━━━━━\u001b[0m \u001b[32m1.9/1.9 MB\u001b[0m \u001b[31m48.9 MB/s\u001b[0m eta \u001b[36m0:00:00\u001b[0m00:01\u001b[0m\n",
      "\u001b[?25hDownloading chardet-5.2.0-py3-none-any.whl (199 kB)\n",
      "\u001b[2K   \u001b[90m━━━━━━━━━━━━━━━━━━━━━━━━━━━━━━━━━━━━━━━━\u001b[0m \u001b[32m199.4/199.4 kB\u001b[0m \u001b[31m25.3 MB/s\u001b[0m eta \u001b[36m0:00:00\u001b[0m\n",
      "\u001b[?25hDownloading lxml-5.2.2-cp311-cp311-macosx_10_9_universal2.whl (8.1 MB)\n",
      "\u001b[2K   \u001b[90m━━━━━━━━━━━━━━━━━━━━━━━━━━━━━━━━━━━━━━━━\u001b[0m \u001b[32m8.1/8.1 MB\u001b[0m \u001b[31m47.4 MB/s\u001b[0m eta \u001b[36m0:00:00\u001b[0ma \u001b[36m0:00:01\u001b[0m\n",
      "\u001b[?25hBuilding wheels for collected packages: svglib\n",
      "  Building wheel for svglib (setup.py) ... \u001b[?25ldone\n",
      "\u001b[?25h  Created wheel for svglib: filename=svglib-1.5.1-py3-none-any.whl size=30903 sha256=38c205b4cb9e3d07228ca26ec0555b93a3833799d1bc999ff8194383870d6f1b\n",
      "  Stored in directory: /Users/stanleytan/Library/Caches/pip/wheels/7e/01/0e/e6e336915d6e8448890a695770ba88fe030cc71060988016f6\n",
      "Successfully built svglib\n",
      "Installing collected packages: lxml, chardet, reportlab, svglib\n",
      "Successfully installed chardet-5.2.0 lxml-5.2.2 reportlab-4.2.2 svglib-1.5.1\n",
      "Note: you may need to restart the kernel to use updated packages.\n"
     ]
    }
   ],
   "source": [
    "pip install chess svglib reportlab"
   ]
  },
  {
   "cell_type": "code",
   "execution_count": 1,
   "id": "01b6f92a-6e64-40fd-934a-a937d4a7a300",
   "metadata": {},
   "outputs": [
    {
     "name": "stdout",
     "output_type": "stream",
     "text": [
      "Requirement already satisfied: chess in ./anaconda3/envs/test/lib/python3.11/site-packages (1.10.0)\n",
      "Requirement already satisfied: svglib in ./anaconda3/envs/test/lib/python3.11/site-packages (1.5.1)\n",
      "Requirement already satisfied: reportlab in ./anaconda3/envs/test/lib/python3.11/site-packages (4.2.2)\n",
      "Requirement already satisfied: lxml in ./anaconda3/envs/test/lib/python3.11/site-packages (from svglib) (5.2.2)\n",
      "Requirement already satisfied: tinycss2>=0.6.0 in ./anaconda3/envs/test/lib/python3.11/site-packages (from svglib) (1.2.1)\n",
      "Requirement already satisfied: cssselect2>=0.2.0 in ./anaconda3/envs/test/lib/python3.11/site-packages (from svglib) (0.7.0)\n",
      "Requirement already satisfied: pillow>=9.0.0 in ./anaconda3/envs/test/lib/python3.11/site-packages (from reportlab) (10.4.0)\n",
      "Requirement already satisfied: chardet in ./anaconda3/envs/test/lib/python3.11/site-packages (from reportlab) (5.2.0)\n",
      "Requirement already satisfied: webencodings in ./anaconda3/envs/test/lib/python3.11/site-packages (from cssselect2>=0.2.0->svglib) (0.5.1)\n",
      "Note: you may need to restart the kernel to use updated packages.\n"
     ]
    }
   ],
   "source": [
    "pip install chess svglib reportlab"
   ]
  },
  {
   "cell_type": "code",
   "execution_count": 2,
   "id": "7304908b-5e7a-44bf-bdb1-d06ad39734b4",
   "metadata": {},
   "outputs": [
    {
     "ename": "NameError",
     "evalue": "name 'io' is not defined",
     "output_type": "error",
     "traceback": [
      "\u001b[0;31m---------------------------------------------------------------------------\u001b[0m",
      "\u001b[0;31mNameError\u001b[0m                                 Traceback (most recent call last)",
      "Cell \u001b[0;32mIn[2], line 13\u001b[0m\n\u001b[1;32m     10\u001b[0m svg \u001b[38;5;241m=\u001b[39m chess\u001b[38;5;241m.\u001b[39msvg\u001b[38;5;241m.\u001b[39mboard(board, size\u001b[38;5;241m=\u001b[39m\u001b[38;5;241m350\u001b[39m)\n\u001b[1;32m     12\u001b[0m \u001b[38;5;66;03m# Convert SVG to Drawing\u001b[39;00m\n\u001b[0;32m---> 13\u001b[0m drawing \u001b[38;5;241m=\u001b[39m svg2rlg(io\u001b[38;5;241m.\u001b[39mStringIO(svg))\n\u001b[1;32m     15\u001b[0m \u001b[38;5;66;03m# Render Drawing to PDF\u001b[39;00m\n\u001b[1;32m     16\u001b[0m renderPDF\u001b[38;5;241m.\u001b[39mdrawToFile(drawing, \u001b[38;5;124m\"\u001b[39m\u001b[38;5;124mchess_position.pdf\u001b[39m\u001b[38;5;124m\"\u001b[39m)\n",
      "\u001b[0;31mNameError\u001b[0m: name 'io' is not defined"
     ]
    }
   ],
   "source": [
    "import chess\n",
    "import chess.svg\n",
    "from svglib.svglib import svg2rlg\n",
    "from reportlab.graphics import renderPDF\n",
    "\n",
    "# Create a chess board with a specific position\n",
    "board = chess.Board(\"rn1qkb1r/ppp1pppp/8/3pP3/2Bn4/5N2/PPP2PPP/R1BQK2R w KQkq - 0 1\")\n",
    "\n",
    "# Generate the SVG representation of the board\n",
    "svg = chess.svg.board(board, size=350)\n",
    "\n",
    "# Convert SVG to Drawing\n",
    "drawing = svg2rlg(io.StringIO(svg))\n",
    "\n",
    "# Render Drawing to PDF\n",
    "renderPDF.drawToFile(drawing, \"chess_position.pdf\")\n",
    "\n",
    "print(\"PDF of the chess position created successfully using svglib and reportlab!\")"
   ]
  },
  {
   "cell_type": "code",
   "execution_count": 8,
   "id": "b50996e5-5607-44fa-b6d1-889c3a3b5ee6",
   "metadata": {},
   "outputs": [
    {
     "name": "stdout",
     "output_type": "stream",
     "text": [
      "PDF of the chess position created successfully using svglib and reportlab!\n"
     ]
    }
   ],
   "source": [
    "import chess\n",
    "import chess.svg\n",
    "import io  # Import the io module for handling streams\n",
    "from svglib.svglib import svg2rlg\n",
    "from reportlab.graphics import renderPDF\n",
    "\n",
    "# Create a chess board with a specific position\n",
    "board = chess.Board(\"rn1qkb1r/ppp1pppp/8/3pP3/2Bn4/5N2/PPP2PPP/R1BQK2R w KQkq - 0 1\")\n",
    "\n",
    "# Generate the SVG representation of the board\n",
    "svg = chess.svg.board(board, size=350)\n",
    "\n",
    "# Convert SVG to Drawing\n",
    "drawing = svg2rlg(io.StringIO(svg))\n",
    "\n",
    "# Render Drawing to PDF\n",
    "renderPDF.drawToFile(drawing, \"chess_position.pdf\")\n",
    "\n",
    "print(\"PDF of the chess position created successfully using svglib and reportlab!\")"
   ]
  },
  {
   "cell_type": "code",
   "execution_count": 4,
   "id": "0239dad0-2301-4826-807f-eddbb6f54d9c",
   "metadata": {},
   "outputs": [
    {
     "ename": "RenderPMError",
     "evalue": "cannot import desired renderPM backend rlPyCairo\nSeek advice at the users list see\nhttps://pairlist2.pair.net/mailman/listinfo/reportlab-users",
     "output_type": "error",
     "traceback": [
      "\u001b[0;31m---------------------------------------------------------------------------\u001b[0m",
      "\u001b[0;31mModuleNotFoundError\u001b[0m                       Traceback (most recent call last)",
      "File \u001b[0;32m~/anaconda3/envs/test/lib/python3.11/site-packages/reportlab/graphics/renderPM.py:44\u001b[0m, in \u001b[0;36m_getPMBackend\u001b[0;34m(backend)\u001b[0m\n\u001b[1;32m     43\u001b[0m \u001b[38;5;28;01mtry\u001b[39;00m:\n\u001b[0;32m---> 44\u001b[0m     \u001b[38;5;28;01mimport\u001b[39;00m \u001b[38;5;21;01mrlPyCairo\u001b[39;00m \u001b[38;5;28;01mas\u001b[39;00m \u001b[38;5;21;01mM\u001b[39;00m\n\u001b[1;32m     45\u001b[0m \u001b[38;5;28;01mexcept\u001b[39;00m \u001b[38;5;167;01mImportError\u001b[39;00m \u001b[38;5;28;01mas\u001b[39;00m errMsg:\n",
      "\u001b[0;31mModuleNotFoundError\u001b[0m: No module named 'rlPyCairo'",
      "\nDuring handling of the above exception, another exception occurred:\n",
      "\u001b[0;31mModuleNotFoundError\u001b[0m                       Traceback (most recent call last)",
      "File \u001b[0;32m~/anaconda3/envs/test/lib/python3.11/site-packages/reportlab/graphics/renderPM.py:47\u001b[0m, in \u001b[0;36m_getPMBackend\u001b[0;34m(backend)\u001b[0m\n\u001b[1;32m     46\u001b[0m \u001b[38;5;28;01mtry\u001b[39;00m:\n\u001b[0;32m---> 47\u001b[0m     \u001b[38;5;28;01mimport\u001b[39;00m \u001b[38;5;21;01m_rl_renderPM\u001b[39;00m \u001b[38;5;28;01mas\u001b[39;00m \u001b[38;5;21;01mM\u001b[39;00m\n\u001b[1;32m     48\u001b[0m \u001b[38;5;28;01mexcept\u001b[39;00m \u001b[38;5;167;01mImportError\u001b[39;00m:\n",
      "\u001b[0;31mModuleNotFoundError\u001b[0m: No module named '_rl_renderPM'",
      "\nDuring handling of the above exception, another exception occurred:\n",
      "\u001b[0;31mRenderPMError\u001b[0m                             Traceback (most recent call last)",
      "Cell \u001b[0;32mIn[4], line 17\u001b[0m\n\u001b[1;32m     14\u001b[0m drawing \u001b[38;5;241m=\u001b[39m svg2rlg(io\u001b[38;5;241m.\u001b[39mStringIO(svg))\n\u001b[1;32m     16\u001b[0m \u001b[38;5;66;03m# Render Drawing to PNG\u001b[39;00m\n\u001b[0;32m---> 17\u001b[0m renderPM\u001b[38;5;241m.\u001b[39mdrawToFile(drawing, \u001b[38;5;124m\"\u001b[39m\u001b[38;5;124mchess_position.png\u001b[39m\u001b[38;5;124m\"\u001b[39m, fmt\u001b[38;5;241m=\u001b[39m\u001b[38;5;124m\"\u001b[39m\u001b[38;5;124mPNG\u001b[39m\u001b[38;5;124m\"\u001b[39m)\n\u001b[1;32m     19\u001b[0m \u001b[38;5;28mprint\u001b[39m(\u001b[38;5;124m\"\u001b[39m\u001b[38;5;124mPNG image of the chess position created successfully!\u001b[39m\u001b[38;5;124m\"\u001b[39m)\n",
      "File \u001b[0;32m~/anaconda3/envs/test/lib/python3.11/site-packages/reportlab/graphics/renderPM.py:734\u001b[0m, in \u001b[0;36mdrawToFile\u001b[0;34m(d, fn, fmt, dpi, bg, configPIL, showBoundary, backend, backendFmt)\u001b[0m\n\u001b[1;32m    731\u001b[0m \u001b[38;5;28;01mdef\u001b[39;00m \u001b[38;5;21mdrawToFile\u001b[39m(d,fn,fmt\u001b[38;5;241m=\u001b[39m\u001b[38;5;124m'\u001b[39m\u001b[38;5;124mGIF\u001b[39m\u001b[38;5;124m'\u001b[39m, dpi\u001b[38;5;241m=\u001b[39m\u001b[38;5;241m72\u001b[39m, bg\u001b[38;5;241m=\u001b[39m\u001b[38;5;241m0xffffff\u001b[39m, configPIL\u001b[38;5;241m=\u001b[39m\u001b[38;5;28;01mNone\u001b[39;00m, showBoundary\u001b[38;5;241m=\u001b[39mrl_config\u001b[38;5;241m.\u001b[39m_unset_,backend\u001b[38;5;241m=\u001b[39mrl_config\u001b[38;5;241m.\u001b[39mrenderPMBackend,backendFmt\u001b[38;5;241m=\u001b[39m\u001b[38;5;124m'\u001b[39m\u001b[38;5;124mRGB\u001b[39m\u001b[38;5;124m'\u001b[39m):\n\u001b[1;32m    732\u001b[0m \u001b[38;5;250m    \u001b[39m\u001b[38;5;124;03m'''create a pixmap and draw drawing, d to it then save as a file\u001b[39;00m\n\u001b[1;32m    733\u001b[0m \u001b[38;5;124;03m    configPIL dict is passed to image save method'''\u001b[39;00m\n\u001b[0;32m--> 734\u001b[0m     c \u001b[38;5;241m=\u001b[39m drawToPMCanvas(d, dpi\u001b[38;5;241m=\u001b[39mdpi, bg\u001b[38;5;241m=\u001b[39mbg, configPIL\u001b[38;5;241m=\u001b[39mconfigPIL, showBoundary\u001b[38;5;241m=\u001b[39mshowBoundary,backend\u001b[38;5;241m=\u001b[39mbackend,backendFmt\u001b[38;5;241m=\u001b[39mbackendFmt)\n\u001b[1;32m    735\u001b[0m     c\u001b[38;5;241m.\u001b[39msaveToFile(fn,fmt)\n",
      "File \u001b[0;32m~/anaconda3/envs/test/lib/python3.11/site-packages/reportlab/graphics/renderPM.py:719\u001b[0m, in \u001b[0;36mdrawToPMCanvas\u001b[0;34m(d, dpi, bg, configPIL, showBoundary, backend, backendFmt)\u001b[0m\n\u001b[1;32m    717\u001b[0m \u001b[38;5;28;01mdef\u001b[39;00m \u001b[38;5;21mdrawToPMCanvas\u001b[39m(d, dpi\u001b[38;5;241m=\u001b[39m\u001b[38;5;241m72\u001b[39m, bg\u001b[38;5;241m=\u001b[39m\u001b[38;5;241m0xffffff\u001b[39m, configPIL\u001b[38;5;241m=\u001b[39m\u001b[38;5;28;01mNone\u001b[39;00m, showBoundary\u001b[38;5;241m=\u001b[39mrl_config\u001b[38;5;241m.\u001b[39m_unset_,backend\u001b[38;5;241m=\u001b[39mrl_config\u001b[38;5;241m.\u001b[39mrenderPMBackend,backendFmt\u001b[38;5;241m=\u001b[39m\u001b[38;5;124m'\u001b[39m\u001b[38;5;124mRGB\u001b[39m\u001b[38;5;124m'\u001b[39m):\n\u001b[1;32m    718\u001b[0m     d \u001b[38;5;241m=\u001b[39m renderScaledDrawing(d)\n\u001b[0;32m--> 719\u001b[0m     c \u001b[38;5;241m=\u001b[39m PMCanvas(d\u001b[38;5;241m.\u001b[39mwidth, d\u001b[38;5;241m.\u001b[39mheight, dpi\u001b[38;5;241m=\u001b[39mdpi, bg\u001b[38;5;241m=\u001b[39mbg, configPIL\u001b[38;5;241m=\u001b[39mconfigPIL, backend\u001b[38;5;241m=\u001b[39mbackend,backendFmt\u001b[38;5;241m=\u001b[39mbackendFmt)\n\u001b[1;32m    720\u001b[0m     draw(d, c, \u001b[38;5;241m0\u001b[39m, \u001b[38;5;241m0\u001b[39m, showBoundary\u001b[38;5;241m=\u001b[39mshowBoundary)\n\u001b[1;32m    721\u001b[0m     \u001b[38;5;28;01mreturn\u001b[39;00m c\n",
      "File \u001b[0;32m~/anaconda3/envs/test/lib/python3.11/site-packages/reportlab/graphics/renderPM.py:313\u001b[0m, in \u001b[0;36mPMCanvas.__init__\u001b[0;34m(self, w, h, dpi, bg, configPIL, backend, backendFmt)\u001b[0m\n\u001b[1;32m    311\u001b[0m w \u001b[38;5;241m=\u001b[39m \u001b[38;5;28mint\u001b[39m(w\u001b[38;5;241m*\u001b[39mscale\u001b[38;5;241m+\u001b[39m\u001b[38;5;241m0.5\u001b[39m)\n\u001b[1;32m    312\u001b[0m h \u001b[38;5;241m=\u001b[39m \u001b[38;5;28mint\u001b[39m(h\u001b[38;5;241m*\u001b[39mscale\u001b[38;5;241m+\u001b[39m\u001b[38;5;241m0.5\u001b[39m)\n\u001b[0;32m--> 313\u001b[0m \u001b[38;5;28mself\u001b[39m\u001b[38;5;241m.\u001b[39m\u001b[38;5;18m__dict__\u001b[39m[\u001b[38;5;124m'\u001b[39m\u001b[38;5;124m_gs\u001b[39m\u001b[38;5;124m'\u001b[39m] \u001b[38;5;241m=\u001b[39m \u001b[38;5;28mself\u001b[39m\u001b[38;5;241m.\u001b[39m_getGState(w,h,bg,backend,fmt\u001b[38;5;241m=\u001b[39mbackendFmt)\n\u001b[1;32m    314\u001b[0m \u001b[38;5;28mself\u001b[39m\u001b[38;5;241m.\u001b[39m\u001b[38;5;18m__dict__\u001b[39m[\u001b[38;5;124m'\u001b[39m\u001b[38;5;124m_bg\u001b[39m\u001b[38;5;124m'\u001b[39m] \u001b[38;5;241m=\u001b[39m bg\n\u001b[1;32m    315\u001b[0m \u001b[38;5;28mself\u001b[39m\u001b[38;5;241m.\u001b[39m\u001b[38;5;18m__dict__\u001b[39m[\u001b[38;5;124m'\u001b[39m\u001b[38;5;124m_baseCTM\u001b[39m\u001b[38;5;124m'\u001b[39m] \u001b[38;5;241m=\u001b[39m (scale,\u001b[38;5;241m0\u001b[39m,\u001b[38;5;241m0\u001b[39m,scale,\u001b[38;5;241m0\u001b[39m,\u001b[38;5;241m0\u001b[39m)\n",
      "File \u001b[0;32m~/anaconda3/envs/test/lib/python3.11/site-packages/reportlab/graphics/renderPM.py:327\u001b[0m, in \u001b[0;36mPMCanvas._getGState\u001b[0;34m(w, h, bg, backend, fmt)\u001b[0m\n\u001b[1;32m    325\u001b[0m \u001b[38;5;129m@staticmethod\u001b[39m\n\u001b[1;32m    326\u001b[0m \u001b[38;5;28;01mdef\u001b[39;00m \u001b[38;5;21m_getGState\u001b[39m(w, h, bg, backend\u001b[38;5;241m=\u001b[39m\u001b[38;5;28;01mNone\u001b[39;00m, fmt\u001b[38;5;241m=\u001b[39m\u001b[38;5;124m'\u001b[39m\u001b[38;5;124mRGB24\u001b[39m\u001b[38;5;124m'\u001b[39m):\n\u001b[0;32m--> 327\u001b[0m     mod \u001b[38;5;241m=\u001b[39m _getPMBackend(backend)\n\u001b[1;32m    328\u001b[0m     \u001b[38;5;28;01mif\u001b[39;00m backend \u001b[38;5;129;01mis\u001b[39;00m \u001b[38;5;28;01mNone\u001b[39;00m:\n\u001b[1;32m    329\u001b[0m         backend \u001b[38;5;241m=\u001b[39m rl_config\u001b[38;5;241m.\u001b[39mrenderPMBackend\n",
      "File \u001b[0;32m~/anaconda3/envs/test/lib/python3.11/site-packages/reportlab/graphics/renderPM.py:49\u001b[0m, in \u001b[0;36m_getPMBackend\u001b[0;34m(backend)\u001b[0m\n\u001b[1;32m     47\u001b[0m                 \u001b[38;5;28;01mimport\u001b[39;00m \u001b[38;5;21;01m_rl_renderPM\u001b[39;00m \u001b[38;5;28;01mas\u001b[39;00m \u001b[38;5;21;01mM\u001b[39;00m\n\u001b[1;32m     48\u001b[0m             \u001b[38;5;28;01mexcept\u001b[39;00m \u001b[38;5;167;01mImportError\u001b[39;00m:\n\u001b[0;32m---> 49\u001b[0m                 \u001b[38;5;28;01mraise\u001b[39;00m RenderPMError(\u001b[38;5;124mf\u001b[39m\u001b[38;5;124m\"\"\"\u001b[39m\u001b[38;5;124mcannot import desired renderPM backend \u001b[39m\u001b[38;5;132;01m{\u001b[39;00mbackend\u001b[38;5;132;01m}\u001b[39;00m\n\u001b[1;32m     50\u001b[0m \u001b[38;5;124mSeek advice at the users list see\u001b[39m\n\u001b[1;32m     51\u001b[0m \u001b[38;5;124mhttps://pairlist2.pair.net/mailman/listinfo/reportlab-users\u001b[39m\u001b[38;5;124m\"\"\"\u001b[39m)\n\u001b[1;32m     52\u001b[0m     \u001b[38;5;28;01melse\u001b[39;00m:\n\u001b[1;32m     53\u001b[0m         \u001b[38;5;28;01mraise\u001b[39;00m RenderPMError(\u001b[38;5;124mf\u001b[39m\u001b[38;5;124m'\u001b[39m\u001b[38;5;124mInvalid renderPM backend, \u001b[39m\u001b[38;5;132;01m{\u001b[39;00mbackend\u001b[38;5;132;01m}\u001b[39;00m\u001b[38;5;124m'\u001b[39m)\n",
      "\u001b[0;31mRenderPMError\u001b[0m: cannot import desired renderPM backend rlPyCairo\nSeek advice at the users list see\nhttps://pairlist2.pair.net/mailman/listinfo/reportlab-users"
     ]
    }
   ],
   "source": [
    "import chess\n",
    "import chess.svg\n",
    "import io  # Import the io module for handling streams\n",
    "from svglib.svglib import svg2rlg\n",
    "from reportlab.graphics import renderPM\n",
    "\n",
    "# Create a chess board with a specific position\n",
    "board = chess.Board(\"rn1qkb1r/ppp1pppp/8/3pP3/2Bn4/5N2/PPP2PPP/R1BQK2R w KQkq - 0 1\")\n",
    "\n",
    "# Generate the SVG representation of the board\n",
    "svg = chess.svg.board(board, size=350)\n",
    "\n",
    "# Convert SVG to Drawing\n",
    "drawing = svg2rlg(io.StringIO(svg))\n",
    "\n",
    "# Render Drawing to PNG\n",
    "renderPM.drawToFile(drawing, \"chess_position.png\", fmt=\"PNG\")\n",
    "\n",
    "print(\"PNG image of the chess position created successfully!\")"
   ]
  },
  {
   "cell_type": "code",
   "execution_count": 5,
   "id": "da8a8db8-114a-493d-bf14-e336f6d722cc",
   "metadata": {},
   "outputs": [
    {
     "name": "stdout",
     "output_type": "stream",
     "text": [
      "Requirement already satisfied: chess in ./anaconda3/envs/test/lib/python3.11/site-packages (1.10.0)\n",
      "Requirement already satisfied: svglib in ./anaconda3/envs/test/lib/python3.11/site-packages (1.5.1)\n",
      "Requirement already satisfied: reportlab in ./anaconda3/envs/test/lib/python3.11/site-packages (4.2.2)\n",
      "Requirement already satisfied: lxml in ./anaconda3/envs/test/lib/python3.11/site-packages (from svglib) (5.2.2)\n",
      "Requirement already satisfied: tinycss2>=0.6.0 in ./anaconda3/envs/test/lib/python3.11/site-packages (from svglib) (1.2.1)\n",
      "Requirement already satisfied: cssselect2>=0.2.0 in ./anaconda3/envs/test/lib/python3.11/site-packages (from svglib) (0.7.0)\n",
      "Requirement already satisfied: pillow>=9.0.0 in ./anaconda3/envs/test/lib/python3.11/site-packages (from reportlab) (10.4.0)\n",
      "Requirement already satisfied: chardet in ./anaconda3/envs/test/lib/python3.11/site-packages (from reportlab) (5.2.0)\n",
      "Requirement already satisfied: webencodings in ./anaconda3/envs/test/lib/python3.11/site-packages (from cssselect2>=0.2.0->svglib) (0.5.1)\n",
      "Note: you may need to restart the kernel to use updated packages.\n"
     ]
    }
   ],
   "source": [
    "pip install chess svglib reportlab"
   ]
  },
  {
   "cell_type": "code",
   "execution_count": 6,
   "id": "3c2c80cf-ec6e-4859-8135-213b1a97e815",
   "metadata": {},
   "outputs": [
    {
     "ename": "OSError",
     "evalue": "no library called \"cairo-2\" was found\nno library called \"cairo\" was found\nno library called \"libcairo-2\" was found\ncannot load library 'libcairo.so.2': dlopen(libcairo.so.2, 0x0002): tried: 'libcairo.so.2' (no such file), '/System/Volumes/Preboot/Cryptexes/OSlibcairo.so.2' (no such file), '/Users/stanleytan/anaconda3/envs/test/lib/python3.11/site-packages/../../libcairo.so.2' (no such file), '/Users/stanleytan/anaconda3/envs/test/bin/../lib/libcairo.so.2' (no such file), '/usr/lib/libcairo.so.2' (no such file, not in dyld cache), 'libcairo.so.2' (no such file), '/usr/local/lib/libcairo.so.2' (no such file), '/usr/lib/libcairo.so.2' (no such file, not in dyld cache).  Additionally, ctypes.util.find_library() did not manage to locate a library called 'libcairo.so.2'\ncannot load library 'libcairo.2.dylib': dlopen(libcairo.2.dylib, 0x0002): tried: 'libcairo.2.dylib' (no such file), '/System/Volumes/Preboot/Cryptexes/OSlibcairo.2.dylib' (no such file), '/Users/stanleytan/anaconda3/envs/test/lib/python3.11/site-packages/../../libcairo.2.dylib' (no such file), '/Users/stanleytan/anaconda3/envs/test/bin/../lib/libcairo.2.dylib' (no such file), '/usr/lib/libcairo.2.dylib' (no such file, not in dyld cache), 'libcairo.2.dylib' (no such file), '/usr/local/lib/libcairo.2.dylib' (no such file), '/usr/lib/libcairo.2.dylib' (no such file, not in dyld cache).  Additionally, ctypes.util.find_library() did not manage to locate a library called 'libcairo.2.dylib'\ncannot load library 'libcairo-2.dll': dlopen(libcairo-2.dll, 0x0002): tried: 'libcairo-2.dll' (no such file), '/System/Volumes/Preboot/Cryptexes/OSlibcairo-2.dll' (no such file), '/Users/stanleytan/anaconda3/envs/test/lib/python3.11/site-packages/../../libcairo-2.dll' (no such file), '/Users/stanleytan/anaconda3/envs/test/bin/../lib/libcairo-2.dll' (no such file), '/usr/lib/libcairo-2.dll' (no such file, not in dyld cache), 'libcairo-2.dll' (no such file), '/usr/local/lib/libcairo-2.dll' (no such file), '/usr/lib/libcairo-2.dll' (no such file, not in dyld cache).  Additionally, ctypes.util.find_library() did not manage to locate a library called 'libcairo-2.dll'",
     "output_type": "error",
     "traceback": [
      "\u001b[0;31m---------------------------------------------------------------------------\u001b[0m",
      "\u001b[0;31mOSError\u001b[0m                                   Traceback (most recent call last)",
      "Cell \u001b[0;32mIn[6], line 3\u001b[0m\n\u001b[1;32m      1\u001b[0m \u001b[38;5;28;01mimport\u001b[39;00m \u001b[38;5;21;01mchess\u001b[39;00m\n\u001b[1;32m      2\u001b[0m \u001b[38;5;28;01mimport\u001b[39;00m \u001b[38;5;21;01mchess\u001b[39;00m\u001b[38;5;21;01m.\u001b[39;00m\u001b[38;5;21;01msvg\u001b[39;00m\n\u001b[0;32m----> 3\u001b[0m \u001b[38;5;28;01mimport\u001b[39;00m \u001b[38;5;21;01mcairosvg\u001b[39;00m\n\u001b[1;32m      5\u001b[0m \u001b[38;5;66;03m# Create a chess board with a specific position\u001b[39;00m\n\u001b[1;32m      6\u001b[0m board \u001b[38;5;241m=\u001b[39m chess\u001b[38;5;241m.\u001b[39mBoard(\u001b[38;5;124m\"\u001b[39m\u001b[38;5;124mrn1qkb1r/ppp1pppp/8/3pP3/2Bn4/5N2/PPP2PPP/R1BQK2R w KQkq - 0 1\u001b[39m\u001b[38;5;124m\"\u001b[39m)\n",
      "File \u001b[0;32m~/anaconda3/envs/test/lib/python3.11/site-packages/cairosvg/__init__.py:26\u001b[0m\n\u001b[1;32m     22\u001b[0m VERSION \u001b[38;5;241m=\u001b[39m __version__ \u001b[38;5;241m=\u001b[39m (ROOT \u001b[38;5;241m/\u001b[39m \u001b[38;5;124m'\u001b[39m\u001b[38;5;124mVERSION\u001b[39m\u001b[38;5;124m'\u001b[39m)\u001b[38;5;241m.\u001b[39mread_text()\u001b[38;5;241m.\u001b[39mstrip()\n\u001b[1;32m     25\u001b[0m \u001b[38;5;66;03m# VERSION is used in the \"url\" module imported by \"surface\"\u001b[39;00m\n\u001b[0;32m---> 26\u001b[0m \u001b[38;5;28;01mfrom\u001b[39;00m \u001b[38;5;21;01m.\u001b[39;00m \u001b[38;5;28;01mimport\u001b[39;00m surface  \u001b[38;5;66;03m# noqa isort:skip\u001b[39;00m\n\u001b[1;32m     29\u001b[0m SURFACES \u001b[38;5;241m=\u001b[39m {\n\u001b[1;32m     30\u001b[0m     \u001b[38;5;124m'\u001b[39m\u001b[38;5;124mPDF\u001b[39m\u001b[38;5;124m'\u001b[39m: surface\u001b[38;5;241m.\u001b[39mPDFSurface,\n\u001b[1;32m     31\u001b[0m     \u001b[38;5;124m'\u001b[39m\u001b[38;5;124mPNG\u001b[39m\u001b[38;5;124m'\u001b[39m: surface\u001b[38;5;241m.\u001b[39mPNGSurface,\n\u001b[0;32m   (...)\u001b[0m\n\u001b[1;32m     34\u001b[0m     \u001b[38;5;124m'\u001b[39m\u001b[38;5;124mSVG\u001b[39m\u001b[38;5;124m'\u001b[39m: surface\u001b[38;5;241m.\u001b[39mSVGSurface,\n\u001b[1;32m     35\u001b[0m }\n\u001b[1;32m     38\u001b[0m \u001b[38;5;28;01mdef\u001b[39;00m \u001b[38;5;21msvg2svg\u001b[39m(bytestring\u001b[38;5;241m=\u001b[39m\u001b[38;5;28;01mNone\u001b[39;00m, \u001b[38;5;241m*\u001b[39m, file_obj\u001b[38;5;241m=\u001b[39m\u001b[38;5;28;01mNone\u001b[39;00m, url\u001b[38;5;241m=\u001b[39m\u001b[38;5;28;01mNone\u001b[39;00m, dpi\u001b[38;5;241m=\u001b[39m\u001b[38;5;241m96\u001b[39m,\n\u001b[1;32m     39\u001b[0m             parent_width\u001b[38;5;241m=\u001b[39m\u001b[38;5;28;01mNone\u001b[39;00m, parent_height\u001b[38;5;241m=\u001b[39m\u001b[38;5;28;01mNone\u001b[39;00m, scale\u001b[38;5;241m=\u001b[39m\u001b[38;5;241m1\u001b[39m, unsafe\u001b[38;5;241m=\u001b[39m\u001b[38;5;28;01mFalse\u001b[39;00m,\n\u001b[1;32m     40\u001b[0m             background_color\u001b[38;5;241m=\u001b[39m\u001b[38;5;28;01mNone\u001b[39;00m, negate_colors\u001b[38;5;241m=\u001b[39m\u001b[38;5;28;01mFalse\u001b[39;00m, invert_images\u001b[38;5;241m=\u001b[39m\u001b[38;5;28;01mFalse\u001b[39;00m,\n\u001b[1;32m     41\u001b[0m             write_to\u001b[38;5;241m=\u001b[39m\u001b[38;5;28;01mNone\u001b[39;00m, output_width\u001b[38;5;241m=\u001b[39m\u001b[38;5;28;01mNone\u001b[39;00m, output_height\u001b[38;5;241m=\u001b[39m\u001b[38;5;28;01mNone\u001b[39;00m):\n",
      "File \u001b[0;32m~/anaconda3/envs/test/lib/python3.11/site-packages/cairosvg/surface.py:9\u001b[0m\n\u001b[1;32m      6\u001b[0m \u001b[38;5;28;01mimport\u001b[39;00m \u001b[38;5;21;01mcopy\u001b[39;00m\n\u001b[1;32m      7\u001b[0m \u001b[38;5;28;01mimport\u001b[39;00m \u001b[38;5;21;01mio\u001b[39;00m\n\u001b[0;32m----> 9\u001b[0m \u001b[38;5;28;01mimport\u001b[39;00m \u001b[38;5;21;01mcairocffi\u001b[39;00m \u001b[38;5;28;01mas\u001b[39;00m \u001b[38;5;21;01mcairo\u001b[39;00m\n\u001b[1;32m     11\u001b[0m \u001b[38;5;28;01mfrom\u001b[39;00m \u001b[38;5;21;01m.\u001b[39;00m\u001b[38;5;21;01mcolors\u001b[39;00m \u001b[38;5;28;01mimport\u001b[39;00m color, negate_color\n\u001b[1;32m     12\u001b[0m \u001b[38;5;28;01mfrom\u001b[39;00m \u001b[38;5;21;01m.\u001b[39;00m\u001b[38;5;21;01mdefs\u001b[39;00m \u001b[38;5;28;01mimport\u001b[39;00m (\n\u001b[1;32m     13\u001b[0m     apply_filter_after_painting, apply_filter_before_painting, clip_path,\n\u001b[1;32m     14\u001b[0m     filter_, gradient_or_pattern, linear_gradient, marker, mask, paint_mask,\n\u001b[1;32m     15\u001b[0m     parse_all_defs, pattern, prepare_filter, radial_gradient, use)\n",
      "File \u001b[0;32m~/anaconda3/envs/test/lib/python3.11/site-packages/cairocffi/__init__.py:60\u001b[0m\n\u001b[1;32m     55\u001b[0m     error_message \u001b[38;5;241m=\u001b[39m \u001b[38;5;124m'\u001b[39m\u001b[38;5;130;01m\\n\u001b[39;00m\u001b[38;5;124m'\u001b[39m\u001b[38;5;241m.\u001b[39mjoin(  \u001b[38;5;66;03m# pragma: no cover\u001b[39;00m\n\u001b[1;32m     56\u001b[0m         \u001b[38;5;28mstr\u001b[39m(exception) \u001b[38;5;28;01mfor\u001b[39;00m exception \u001b[38;5;129;01min\u001b[39;00m exceptions)\n\u001b[1;32m     57\u001b[0m     \u001b[38;5;28;01mraise\u001b[39;00m \u001b[38;5;167;01mOSError\u001b[39;00m(error_message)  \u001b[38;5;66;03m# pragma: no cover\u001b[39;00m\n\u001b[0;32m---> 60\u001b[0m cairo \u001b[38;5;241m=\u001b[39m dlopen(\n\u001b[1;32m     61\u001b[0m     ffi, (\u001b[38;5;124m'\u001b[39m\u001b[38;5;124mcairo-2\u001b[39m\u001b[38;5;124m'\u001b[39m, \u001b[38;5;124m'\u001b[39m\u001b[38;5;124mcairo\u001b[39m\u001b[38;5;124m'\u001b[39m, \u001b[38;5;124m'\u001b[39m\u001b[38;5;124mlibcairo-2\u001b[39m\u001b[38;5;124m'\u001b[39m),\n\u001b[1;32m     62\u001b[0m     (\u001b[38;5;124m'\u001b[39m\u001b[38;5;124mlibcairo.so.2\u001b[39m\u001b[38;5;124m'\u001b[39m, \u001b[38;5;124m'\u001b[39m\u001b[38;5;124mlibcairo.2.dylib\u001b[39m\u001b[38;5;124m'\u001b[39m, \u001b[38;5;124m'\u001b[39m\u001b[38;5;124mlibcairo-2.dll\u001b[39m\u001b[38;5;124m'\u001b[39m))\n\u001b[1;32m     65\u001b[0m \u001b[38;5;28;01mclass\u001b[39;00m \u001b[38;5;21;01m_keepref\u001b[39;00m(\u001b[38;5;28mobject\u001b[39m):  \u001b[38;5;66;03m# noqa: N801\u001b[39;00m\n\u001b[1;32m     66\u001b[0m \u001b[38;5;250m    \u001b[39m\u001b[38;5;124;03m\"\"\"Function wrapper that keeps a reference to another object.\"\"\"\u001b[39;00m\n",
      "File \u001b[0;32m~/anaconda3/envs/test/lib/python3.11/site-packages/cairocffi/__init__.py:57\u001b[0m, in \u001b[0;36mdlopen\u001b[0;34m(ffi, library_names, filenames)\u001b[0m\n\u001b[1;32m     53\u001b[0m         exceptions\u001b[38;5;241m.\u001b[39mappend(exception)\n\u001b[1;32m     55\u001b[0m error_message \u001b[38;5;241m=\u001b[39m \u001b[38;5;124m'\u001b[39m\u001b[38;5;130;01m\\n\u001b[39;00m\u001b[38;5;124m'\u001b[39m\u001b[38;5;241m.\u001b[39mjoin(  \u001b[38;5;66;03m# pragma: no cover\u001b[39;00m\n\u001b[1;32m     56\u001b[0m     \u001b[38;5;28mstr\u001b[39m(exception) \u001b[38;5;28;01mfor\u001b[39;00m exception \u001b[38;5;129;01min\u001b[39;00m exceptions)\n\u001b[0;32m---> 57\u001b[0m \u001b[38;5;28;01mraise\u001b[39;00m \u001b[38;5;167;01mOSError\u001b[39;00m(error_message)\n",
      "\u001b[0;31mOSError\u001b[0m: no library called \"cairo-2\" was found\nno library called \"cairo\" was found\nno library called \"libcairo-2\" was found\ncannot load library 'libcairo.so.2': dlopen(libcairo.so.2, 0x0002): tried: 'libcairo.so.2' (no such file), '/System/Volumes/Preboot/Cryptexes/OSlibcairo.so.2' (no such file), '/Users/stanleytan/anaconda3/envs/test/lib/python3.11/site-packages/../../libcairo.so.2' (no such file), '/Users/stanleytan/anaconda3/envs/test/bin/../lib/libcairo.so.2' (no such file), '/usr/lib/libcairo.so.2' (no such file, not in dyld cache), 'libcairo.so.2' (no such file), '/usr/local/lib/libcairo.so.2' (no such file), '/usr/lib/libcairo.so.2' (no such file, not in dyld cache).  Additionally, ctypes.util.find_library() did not manage to locate a library called 'libcairo.so.2'\ncannot load library 'libcairo.2.dylib': dlopen(libcairo.2.dylib, 0x0002): tried: 'libcairo.2.dylib' (no such file), '/System/Volumes/Preboot/Cryptexes/OSlibcairo.2.dylib' (no such file), '/Users/stanleytan/anaconda3/envs/test/lib/python3.11/site-packages/../../libcairo.2.dylib' (no such file), '/Users/stanleytan/anaconda3/envs/test/bin/../lib/libcairo.2.dylib' (no such file), '/usr/lib/libcairo.2.dylib' (no such file, not in dyld cache), 'libcairo.2.dylib' (no such file), '/usr/local/lib/libcairo.2.dylib' (no such file), '/usr/lib/libcairo.2.dylib' (no such file, not in dyld cache).  Additionally, ctypes.util.find_library() did not manage to locate a library called 'libcairo.2.dylib'\ncannot load library 'libcairo-2.dll': dlopen(libcairo-2.dll, 0x0002): tried: 'libcairo-2.dll' (no such file), '/System/Volumes/Preboot/Cryptexes/OSlibcairo-2.dll' (no such file), '/Users/stanleytan/anaconda3/envs/test/lib/python3.11/site-packages/../../libcairo-2.dll' (no such file), '/Users/stanleytan/anaconda3/envs/test/bin/../lib/libcairo-2.dll' (no such file), '/usr/lib/libcairo-2.dll' (no such file, not in dyld cache), 'libcairo-2.dll' (no such file), '/usr/local/lib/libcairo-2.dll' (no such file), '/usr/lib/libcairo-2.dll' (no such file, not in dyld cache).  Additionally, ctypes.util.find_library() did not manage to locate a library called 'libcairo-2.dll'"
     ]
    }
   ],
   "source": [
    "import chess\n",
    "import chess.svg\n",
    "import cairosvg\n",
    "\n",
    "# Create a chess board with a specific position\n",
    "board = chess.Board(\"rn1qkb1r/ppp1pppp/8/3pP3/2Bn4/5N2/PPP2PPP/R1BQK2R w KQkq - 0 1\")\n",
    "\n",
    "# Generate the SVG representation of the board\n",
    "svg = chess.svg.board(board, size=350)\n",
    "\n",
    "# Convert SVG to PNG\n",
    "cairosvg.svg2png(bytestring=svg, write_to='chess_position.png')\n",
    "\n",
    "print(\"PNG image of the chess position created successfully!\")"
   ]
  },
  {
   "cell_type": "code",
   "execution_count": 7,
   "id": "b9a3ee0f-1150-4ab0-90b1-44732ec6b978",
   "metadata": {},
   "outputs": [
    {
     "ename": "OSError",
     "evalue": "no library called \"cairo-2\" was found\nno library called \"cairo\" was found\nno library called \"libcairo-2\" was found\ncannot load library 'libcairo.so.2': dlopen(libcairo.so.2, 0x0002): tried: 'libcairo.so.2' (no such file), '/System/Volumes/Preboot/Cryptexes/OSlibcairo.so.2' (no such file), '/Users/stanleytan/anaconda3/envs/test/lib/python3.11/site-packages/../../libcairo.so.2' (no such file), '/Users/stanleytan/anaconda3/envs/test/bin/../lib/libcairo.so.2' (no such file), '/usr/lib/libcairo.so.2' (no such file, not in dyld cache), 'libcairo.so.2' (no such file), '/usr/local/lib/libcairo.so.2' (no such file), '/usr/lib/libcairo.so.2' (no such file, not in dyld cache).  Additionally, ctypes.util.find_library() did not manage to locate a library called 'libcairo.so.2'\ncannot load library 'libcairo.2.dylib': dlopen(libcairo.2.dylib, 0x0002): tried: 'libcairo.2.dylib' (no such file), '/System/Volumes/Preboot/Cryptexes/OSlibcairo.2.dylib' (no such file), '/Users/stanleytan/anaconda3/envs/test/lib/python3.11/site-packages/../../libcairo.2.dylib' (no such file), '/Users/stanleytan/anaconda3/envs/test/bin/../lib/libcairo.2.dylib' (no such file), '/usr/lib/libcairo.2.dylib' (no such file, not in dyld cache), 'libcairo.2.dylib' (no such file), '/usr/local/lib/libcairo.2.dylib' (no such file), '/usr/lib/libcairo.2.dylib' (no such file, not in dyld cache).  Additionally, ctypes.util.find_library() did not manage to locate a library called 'libcairo.2.dylib'\ncannot load library 'libcairo-2.dll': dlopen(libcairo-2.dll, 0x0002): tried: 'libcairo-2.dll' (no such file), '/System/Volumes/Preboot/Cryptexes/OSlibcairo-2.dll' (no such file), '/Users/stanleytan/anaconda3/envs/test/lib/python3.11/site-packages/../../libcairo-2.dll' (no such file), '/Users/stanleytan/anaconda3/envs/test/bin/../lib/libcairo-2.dll' (no such file), '/usr/lib/libcairo-2.dll' (no such file, not in dyld cache), 'libcairo-2.dll' (no such file), '/usr/local/lib/libcairo-2.dll' (no such file), '/usr/lib/libcairo-2.dll' (no such file, not in dyld cache).  Additionally, ctypes.util.find_library() did not manage to locate a library called 'libcairo-2.dll'",
     "output_type": "error",
     "traceback": [
      "\u001b[0;31m---------------------------------------------------------------------------\u001b[0m",
      "\u001b[0;31mOSError\u001b[0m                                   Traceback (most recent call last)",
      "Cell \u001b[0;32mIn[7], line 3\u001b[0m\n\u001b[1;32m      1\u001b[0m \u001b[38;5;28;01mimport\u001b[39;00m \u001b[38;5;21;01mchess\u001b[39;00m\n\u001b[1;32m      2\u001b[0m \u001b[38;5;28;01mimport\u001b[39;00m \u001b[38;5;21;01mchess\u001b[39;00m\u001b[38;5;21;01m.\u001b[39;00m\u001b[38;5;21;01msvg\u001b[39;00m\n\u001b[0;32m----> 3\u001b[0m \u001b[38;5;28;01mimport\u001b[39;00m \u001b[38;5;21;01mcairosvg\u001b[39;00m\n\u001b[1;32m      5\u001b[0m \u001b[38;5;66;03m# Create a chess board with a specific position\u001b[39;00m\n\u001b[1;32m      6\u001b[0m board \u001b[38;5;241m=\u001b[39m chess\u001b[38;5;241m.\u001b[39mBoard(\u001b[38;5;124m\"\u001b[39m\u001b[38;5;124mrn1qkb1r/ppp1pppp/8/3pP3/2Bn4/5N2/PPP2PPP/R1BQK2R w KQkq - 0 1\u001b[39m\u001b[38;5;124m\"\u001b[39m)\n",
      "File \u001b[0;32m~/anaconda3/envs/test/lib/python3.11/site-packages/cairosvg/__init__.py:26\u001b[0m\n\u001b[1;32m     22\u001b[0m VERSION \u001b[38;5;241m=\u001b[39m __version__ \u001b[38;5;241m=\u001b[39m (ROOT \u001b[38;5;241m/\u001b[39m \u001b[38;5;124m'\u001b[39m\u001b[38;5;124mVERSION\u001b[39m\u001b[38;5;124m'\u001b[39m)\u001b[38;5;241m.\u001b[39mread_text()\u001b[38;5;241m.\u001b[39mstrip()\n\u001b[1;32m     25\u001b[0m \u001b[38;5;66;03m# VERSION is used in the \"url\" module imported by \"surface\"\u001b[39;00m\n\u001b[0;32m---> 26\u001b[0m \u001b[38;5;28;01mfrom\u001b[39;00m \u001b[38;5;21;01m.\u001b[39;00m \u001b[38;5;28;01mimport\u001b[39;00m surface  \u001b[38;5;66;03m# noqa isort:skip\u001b[39;00m\n\u001b[1;32m     29\u001b[0m SURFACES \u001b[38;5;241m=\u001b[39m {\n\u001b[1;32m     30\u001b[0m     \u001b[38;5;124m'\u001b[39m\u001b[38;5;124mPDF\u001b[39m\u001b[38;5;124m'\u001b[39m: surface\u001b[38;5;241m.\u001b[39mPDFSurface,\n\u001b[1;32m     31\u001b[0m     \u001b[38;5;124m'\u001b[39m\u001b[38;5;124mPNG\u001b[39m\u001b[38;5;124m'\u001b[39m: surface\u001b[38;5;241m.\u001b[39mPNGSurface,\n\u001b[0;32m   (...)\u001b[0m\n\u001b[1;32m     34\u001b[0m     \u001b[38;5;124m'\u001b[39m\u001b[38;5;124mSVG\u001b[39m\u001b[38;5;124m'\u001b[39m: surface\u001b[38;5;241m.\u001b[39mSVGSurface,\n\u001b[1;32m     35\u001b[0m }\n\u001b[1;32m     38\u001b[0m \u001b[38;5;28;01mdef\u001b[39;00m \u001b[38;5;21msvg2svg\u001b[39m(bytestring\u001b[38;5;241m=\u001b[39m\u001b[38;5;28;01mNone\u001b[39;00m, \u001b[38;5;241m*\u001b[39m, file_obj\u001b[38;5;241m=\u001b[39m\u001b[38;5;28;01mNone\u001b[39;00m, url\u001b[38;5;241m=\u001b[39m\u001b[38;5;28;01mNone\u001b[39;00m, dpi\u001b[38;5;241m=\u001b[39m\u001b[38;5;241m96\u001b[39m,\n\u001b[1;32m     39\u001b[0m             parent_width\u001b[38;5;241m=\u001b[39m\u001b[38;5;28;01mNone\u001b[39;00m, parent_height\u001b[38;5;241m=\u001b[39m\u001b[38;5;28;01mNone\u001b[39;00m, scale\u001b[38;5;241m=\u001b[39m\u001b[38;5;241m1\u001b[39m, unsafe\u001b[38;5;241m=\u001b[39m\u001b[38;5;28;01mFalse\u001b[39;00m,\n\u001b[1;32m     40\u001b[0m             background_color\u001b[38;5;241m=\u001b[39m\u001b[38;5;28;01mNone\u001b[39;00m, negate_colors\u001b[38;5;241m=\u001b[39m\u001b[38;5;28;01mFalse\u001b[39;00m, invert_images\u001b[38;5;241m=\u001b[39m\u001b[38;5;28;01mFalse\u001b[39;00m,\n\u001b[1;32m     41\u001b[0m             write_to\u001b[38;5;241m=\u001b[39m\u001b[38;5;28;01mNone\u001b[39;00m, output_width\u001b[38;5;241m=\u001b[39m\u001b[38;5;28;01mNone\u001b[39;00m, output_height\u001b[38;5;241m=\u001b[39m\u001b[38;5;28;01mNone\u001b[39;00m):\n",
      "File \u001b[0;32m~/anaconda3/envs/test/lib/python3.11/site-packages/cairosvg/surface.py:9\u001b[0m\n\u001b[1;32m      6\u001b[0m \u001b[38;5;28;01mimport\u001b[39;00m \u001b[38;5;21;01mcopy\u001b[39;00m\n\u001b[1;32m      7\u001b[0m \u001b[38;5;28;01mimport\u001b[39;00m \u001b[38;5;21;01mio\u001b[39;00m\n\u001b[0;32m----> 9\u001b[0m \u001b[38;5;28;01mimport\u001b[39;00m \u001b[38;5;21;01mcairocffi\u001b[39;00m \u001b[38;5;28;01mas\u001b[39;00m \u001b[38;5;21;01mcairo\u001b[39;00m\n\u001b[1;32m     11\u001b[0m \u001b[38;5;28;01mfrom\u001b[39;00m \u001b[38;5;21;01m.\u001b[39;00m\u001b[38;5;21;01mcolors\u001b[39;00m \u001b[38;5;28;01mimport\u001b[39;00m color, negate_color\n\u001b[1;32m     12\u001b[0m \u001b[38;5;28;01mfrom\u001b[39;00m \u001b[38;5;21;01m.\u001b[39;00m\u001b[38;5;21;01mdefs\u001b[39;00m \u001b[38;5;28;01mimport\u001b[39;00m (\n\u001b[1;32m     13\u001b[0m     apply_filter_after_painting, apply_filter_before_painting, clip_path,\n\u001b[1;32m     14\u001b[0m     filter_, gradient_or_pattern, linear_gradient, marker, mask, paint_mask,\n\u001b[1;32m     15\u001b[0m     parse_all_defs, pattern, prepare_filter, radial_gradient, use)\n",
      "File \u001b[0;32m~/anaconda3/envs/test/lib/python3.11/site-packages/cairocffi/__init__.py:60\u001b[0m\n\u001b[1;32m     55\u001b[0m     error_message \u001b[38;5;241m=\u001b[39m \u001b[38;5;124m'\u001b[39m\u001b[38;5;130;01m\\n\u001b[39;00m\u001b[38;5;124m'\u001b[39m\u001b[38;5;241m.\u001b[39mjoin(  \u001b[38;5;66;03m# pragma: no cover\u001b[39;00m\n\u001b[1;32m     56\u001b[0m         \u001b[38;5;28mstr\u001b[39m(exception) \u001b[38;5;28;01mfor\u001b[39;00m exception \u001b[38;5;129;01min\u001b[39;00m exceptions)\n\u001b[1;32m     57\u001b[0m     \u001b[38;5;28;01mraise\u001b[39;00m \u001b[38;5;167;01mOSError\u001b[39;00m(error_message)  \u001b[38;5;66;03m# pragma: no cover\u001b[39;00m\n\u001b[0;32m---> 60\u001b[0m cairo \u001b[38;5;241m=\u001b[39m dlopen(\n\u001b[1;32m     61\u001b[0m     ffi, (\u001b[38;5;124m'\u001b[39m\u001b[38;5;124mcairo-2\u001b[39m\u001b[38;5;124m'\u001b[39m, \u001b[38;5;124m'\u001b[39m\u001b[38;5;124mcairo\u001b[39m\u001b[38;5;124m'\u001b[39m, \u001b[38;5;124m'\u001b[39m\u001b[38;5;124mlibcairo-2\u001b[39m\u001b[38;5;124m'\u001b[39m),\n\u001b[1;32m     62\u001b[0m     (\u001b[38;5;124m'\u001b[39m\u001b[38;5;124mlibcairo.so.2\u001b[39m\u001b[38;5;124m'\u001b[39m, \u001b[38;5;124m'\u001b[39m\u001b[38;5;124mlibcairo.2.dylib\u001b[39m\u001b[38;5;124m'\u001b[39m, \u001b[38;5;124m'\u001b[39m\u001b[38;5;124mlibcairo-2.dll\u001b[39m\u001b[38;5;124m'\u001b[39m))\n\u001b[1;32m     65\u001b[0m \u001b[38;5;28;01mclass\u001b[39;00m \u001b[38;5;21;01m_keepref\u001b[39;00m(\u001b[38;5;28mobject\u001b[39m):  \u001b[38;5;66;03m# noqa: N801\u001b[39;00m\n\u001b[1;32m     66\u001b[0m \u001b[38;5;250m    \u001b[39m\u001b[38;5;124;03m\"\"\"Function wrapper that keeps a reference to another object.\"\"\"\u001b[39;00m\n",
      "File \u001b[0;32m~/anaconda3/envs/test/lib/python3.11/site-packages/cairocffi/__init__.py:57\u001b[0m, in \u001b[0;36mdlopen\u001b[0;34m(ffi, library_names, filenames)\u001b[0m\n\u001b[1;32m     53\u001b[0m         exceptions\u001b[38;5;241m.\u001b[39mappend(exception)\n\u001b[1;32m     55\u001b[0m error_message \u001b[38;5;241m=\u001b[39m \u001b[38;5;124m'\u001b[39m\u001b[38;5;130;01m\\n\u001b[39;00m\u001b[38;5;124m'\u001b[39m\u001b[38;5;241m.\u001b[39mjoin(  \u001b[38;5;66;03m# pragma: no cover\u001b[39;00m\n\u001b[1;32m     56\u001b[0m     \u001b[38;5;28mstr\u001b[39m(exception) \u001b[38;5;28;01mfor\u001b[39;00m exception \u001b[38;5;129;01min\u001b[39;00m exceptions)\n\u001b[0;32m---> 57\u001b[0m \u001b[38;5;28;01mraise\u001b[39;00m \u001b[38;5;167;01mOSError\u001b[39;00m(error_message)\n",
      "\u001b[0;31mOSError\u001b[0m: no library called \"cairo-2\" was found\nno library called \"cairo\" was found\nno library called \"libcairo-2\" was found\ncannot load library 'libcairo.so.2': dlopen(libcairo.so.2, 0x0002): tried: 'libcairo.so.2' (no such file), '/System/Volumes/Preboot/Cryptexes/OSlibcairo.so.2' (no such file), '/Users/stanleytan/anaconda3/envs/test/lib/python3.11/site-packages/../../libcairo.so.2' (no such file), '/Users/stanleytan/anaconda3/envs/test/bin/../lib/libcairo.so.2' (no such file), '/usr/lib/libcairo.so.2' (no such file, not in dyld cache), 'libcairo.so.2' (no such file), '/usr/local/lib/libcairo.so.2' (no such file), '/usr/lib/libcairo.so.2' (no such file, not in dyld cache).  Additionally, ctypes.util.find_library() did not manage to locate a library called 'libcairo.so.2'\ncannot load library 'libcairo.2.dylib': dlopen(libcairo.2.dylib, 0x0002): tried: 'libcairo.2.dylib' (no such file), '/System/Volumes/Preboot/Cryptexes/OSlibcairo.2.dylib' (no such file), '/Users/stanleytan/anaconda3/envs/test/lib/python3.11/site-packages/../../libcairo.2.dylib' (no such file), '/Users/stanleytan/anaconda3/envs/test/bin/../lib/libcairo.2.dylib' (no such file), '/usr/lib/libcairo.2.dylib' (no such file, not in dyld cache), 'libcairo.2.dylib' (no such file), '/usr/local/lib/libcairo.2.dylib' (no such file), '/usr/lib/libcairo.2.dylib' (no such file, not in dyld cache).  Additionally, ctypes.util.find_library() did not manage to locate a library called 'libcairo.2.dylib'\ncannot load library 'libcairo-2.dll': dlopen(libcairo-2.dll, 0x0002): tried: 'libcairo-2.dll' (no such file), '/System/Volumes/Preboot/Cryptexes/OSlibcairo-2.dll' (no such file), '/Users/stanleytan/anaconda3/envs/test/lib/python3.11/site-packages/../../libcairo-2.dll' (no such file), '/Users/stanleytan/anaconda3/envs/test/bin/../lib/libcairo-2.dll' (no such file), '/usr/lib/libcairo-2.dll' (no such file, not in dyld cache), 'libcairo-2.dll' (no such file), '/usr/local/lib/libcairo-2.dll' (no such file), '/usr/lib/libcairo-2.dll' (no such file, not in dyld cache).  Additionally, ctypes.util.find_library() did not manage to locate a library called 'libcairo-2.dll'"
     ]
    }
   ],
   "source": [
    "import chess\n",
    "import chess.svg\n",
    "import cairosvg\n",
    "\n",
    "# Create a chess board with a specific position\n",
    "board = chess.Board(\"rn1qkb1r/ppp1pppp/8/3pP3/2Bn4/5N2/PPP2PPP/R1BQK2R w KQkq - 0 1\")\n",
    "\n",
    "# Generate the SVG representation of the board\n",
    "svg = chess.svg.board(board, size=350)\n",
    "\n",
    "# Convert SVG to PNG\n",
    "cairosvg.svg2png(bytestring=svg, write_to='chess_position.png')\n",
    "\n",
    "print(\"PNG image of the chess position created successfully!\")"
   ]
  },
  {
   "cell_type": "code",
   "execution_count": 9,
   "id": "eb025c15-5132-4ddd-912b-48fbebc7fb88",
   "metadata": {},
   "outputs": [
    {
     "name": "stdout",
     "output_type": "stream",
     "text": [
      "Collecting pymupdf\n",
      "  Downloading PyMuPDF-1.24.9-cp311-none-macosx_11_0_arm64.whl.metadata (3.4 kB)\n",
      "Collecting PyMuPDFb==1.24.9 (from pymupdf)\n",
      "  Downloading PyMuPDFb-1.24.9-py3-none-macosx_11_0_arm64.whl.metadata (1.4 kB)\n",
      "Downloading PyMuPDF-1.24.9-cp311-none-macosx_11_0_arm64.whl (3.0 MB)\n",
      "\u001b[2K   \u001b[90m━━━━━━━━━━━━━━━━━━━━━━━━━━━━━━━━━━━━━━━━\u001b[0m \u001b[32m3.0/3.0 MB\u001b[0m \u001b[31m3.4 MB/s\u001b[0m eta \u001b[36m0:00:00\u001b[0m00:01\u001b[0m00:01\u001b[0m\n",
      "\u001b[?25hDownloading PyMuPDFb-1.24.9-py3-none-macosx_11_0_arm64.whl (14.9 MB)\n",
      "\u001b[2K   \u001b[90m━━━━━━━━━━━━━━━━━━━━━━━━━━━━━━━━━━━━━━━━\u001b[0m \u001b[32m14.9/14.9 MB\u001b[0m \u001b[31m3.3 MB/s\u001b[0m eta \u001b[36m0:00:00\u001b[0m00:01\u001b[0m00:01\u001b[0m\n",
      "\u001b[?25hInstalling collected packages: PyMuPDFb, pymupdf\n",
      "Successfully installed PyMuPDFb-1.24.9 pymupdf-1.24.9\n",
      "Note: you may need to restart the kernel to use updated packages.\n"
     ]
    }
   ],
   "source": [
    "pip install pymupdf"
   ]
  },
  {
   "cell_type": "code",
   "execution_count": 6,
   "id": "14531756-99e2-4994-9b3c-86e80b40b52c",
   "metadata": {},
   "outputs": [
    {
     "name": "stdout",
     "output_type": "stream",
     "text": [
      "PDF of the chess position for move 1 created successfully!\n",
      "PDF of the chess position for move 2 created successfully!\n",
      "PDF of the chess position for move 3 created successfully!\n",
      "PDF of the chess position for move 4 created successfully!\n",
      "PDF of the chess position for move 5 created successfully!\n",
      "PDF of the chess position for move 6 created successfully!\n",
      "PDF of the chess position for move 7 created successfully!\n",
      "PDF of the chess position for move 8 created successfully!\n",
      "PDF of the chess position for move 9 created successfully!\n",
      "PDF of the chess position for move 10 created successfully!\n",
      "PDF of the chess position for move 11 created successfully!\n",
      "PDF of the chess position for move 12 created successfully!\n",
      "PDF of the chess position for move 13 created successfully!\n",
      "PDF of the chess position for move 14 created successfully!\n",
      "PDF of the chess position for move 15 created successfully!\n",
      "PDF of the chess position for move 16 created successfully!\n",
      "PDF of the chess position for move 17 created successfully!\n",
      "PDF of the chess position for move 18 created successfully!\n",
      "PDF of the chess position for move 19 created successfully!\n",
      "PDF of the chess position for move 20 created successfully!\n",
      "PDF of the chess position for move 21 created successfully!\n",
      "PDF of the chess position for move 22 created successfully!\n",
      "PDF of the chess position for move 23 created successfully!\n",
      "PDF of the chess position for move 24 created successfully!\n",
      "PDF of the chess position for move 25 created successfully!\n",
      "PDF of the chess position for move 26 created successfully!\n",
      "PDF of the chess position for move 27 created successfully!\n",
      "PDF of the chess position for move 28 created successfully!\n",
      "PDF of the chess position for move 29 created successfully!\n",
      "PDF of the chess position for move 30 created successfully!\n",
      "PDF of the chess position for move 31 created successfully!\n",
      "PDF of the chess position for move 32 created successfully!\n",
      "PDF of the chess position for move 33 created successfully!\n",
      "PDF of the chess position for move 34 created successfully!\n",
      "PDF of the chess position for move 35 created successfully!\n",
      "PDF of the chess position for move 36 created successfully!\n",
      "PDF of the chess position for move 37 created successfully!\n",
      "PDF of the chess position for move 38 created successfully!\n",
      "PDF of the chess position for move 39 created successfully!\n",
      "PDF of the chess position for move 40 created successfully!\n",
      "All positions have been successfully converted to PDFs.\n"
     ]
    }
   ],
   "source": [
    "import chess\n",
    "import chess.pgn\n",
    "import chess.svg\n",
    "import io  # Import the io module for handling streams\n",
    "from svglib.svglib import svg2rlg\n",
    "from reportlab.graphics import renderPDF\n",
    "\n",
    "# PGN game\n",
    "pgn_ = '''1. e3 d5 2. Nf3 e6 3. Be2 Bd6 4. O-O Nf6 5. b3 O-O 6. Bb2 Nc6 7. c4 dxc4 8. Bxc4\n",
    "e5 9. Bb5 e4 10. Bxc6 exf3 11. Bxf3 Be6 12. Bxb7 Rb8 13. Bc6 Nd5 14. Bxd5 Bxd5\n",
    "15. Nc3 Bb7 16. Nb5 Be7 17. Rc1 c6 18. Nxa7 c5 19. Be5 Qd5 20. Bxb8 Qxg2# 0-1\n",
    "'''\n",
    "\n",
    "# Load PGN into a game object\n",
    "pgn_io = io.StringIO(pgn_)\n",
    "game = chess.pgn.read_game(pgn_io)\n",
    "\n",
    "# Initialize the board from the starting position\n",
    "board = game.board()\n",
    "\n",
    "# Function to convert SVG to PDF\n",
    "def svg_to_pdf(svg_data, filename):\n",
    "    drawing = svg2rlg(io.StringIO(svg_data))\n",
    "    renderPDF.drawToFile(drawing, filename)\n",
    "\n",
    "# Iterate over moves, apply them to the board, and generate FEN and PDF\n",
    "for move_number, move in enumerate(game.mainline_moves(), start=1):\n",
    "    board.push(move)  # Apply move to the board\n",
    "\n",
    "    # Generate SVG representation of the current board\n",
    "    #svg = chess.svg.board(board, size=350)\n",
    "    #svg = chess.svg.board(board, size=350, orientation=chess.BLACK)\n",
    "    svg = chess.svg.board(board, size=350, orientation=chess.BLACK)\n",
    "\n",
    "    \n",
    "\n",
    "    # Create PDF filename for each move\n",
    "    filename = f\"chess_position_{move_number}.pdf\"\n",
    "\n",
    "    # Convert SVG to PDF\n",
    "    svg_to_pdf(svg, filename)\n",
    "\n",
    "    print(f\"PDF of the chess position for move {move_number} created successfully!\")\n",
    "\n",
    "print(\"All positions have been successfully converted to PDFs.\")"
   ]
  },
  {
   "cell_type": "code",
   "execution_count": 4,
   "id": "713e0033-ccbf-4cdd-ba59-9b0bb64a5f05",
   "metadata": {},
   "outputs": [
    {
     "name": "stdout",
     "output_type": "stream",
     "text": [
      "PDF of the chess position for move 1 created successfully!\n",
      "PDF of the chess position for move 2 created successfully!\n",
      "PDF of the chess position for move 3 created successfully!\n",
      "PDF of the chess position for move 4 created successfully!\n",
      "PDF of the chess position for move 5 created successfully!\n",
      "PDF of the chess position for move 6 created successfully!\n",
      "PDF of the chess position for move 7 created successfully!\n",
      "PDF of the chess position for move 8 created successfully!\n",
      "PDF of the chess position for move 9 created successfully!\n",
      "PDF of the chess position for move 10 created successfully!\n",
      "PDF of the chess position for move 11 created successfully!\n",
      "PDF of the chess position for move 12 created successfully!\n",
      "PDF of the chess position for move 13 created successfully!\n",
      "PDF of the chess position for move 14 created successfully!\n",
      "PDF of the chess position for move 15 created successfully!\n",
      "PDF of the chess position for move 16 created successfully!\n",
      "PDF of the chess position for move 17 created successfully!\n",
      "PDF of the chess position for move 18 created successfully!\n",
      "PDF of the chess position for move 19 created successfully!\n",
      "PDF of the chess position for move 20 created successfully!\n",
      "PDF of the chess position for move 21 created successfully!\n",
      "PDF of the chess position for move 22 created successfully!\n",
      "PDF of the chess position for move 23 created successfully!\n",
      "PDF of the chess position for move 24 created successfully!\n",
      "PDF of the chess position for move 25 created successfully!\n",
      "PDF of the chess position for move 26 created successfully!\n",
      "PDF of the chess position for move 27 created successfully!\n",
      "PDF of the chess position for move 28 created successfully!\n",
      "PDF of the chess position for move 29 created successfully!\n",
      "PDF of the chess position for move 30 created successfully!\n",
      "PDF of the chess position for move 31 created successfully!\n",
      "PDF of the chess position for move 32 created successfully!\n",
      "PDF of the chess position for move 33 created successfully!\n",
      "PDF of the chess position for move 34 created successfully!\n",
      "PDF of the chess position for move 35 created successfully!\n",
      "PDF of the chess position for move 36 created successfully!\n",
      "PDF of the chess position for move 37 created successfully!\n",
      "PDF of the chess position for move 38 created successfully!\n",
      "PDF of the chess position for move 39 created successfully!\n",
      "PDF of the chess position for move 40 created successfully!\n",
      "All positions have been successfully converted to PDFs.\n"
     ]
    }
   ],
   "source": [
    "import chess\n",
    "import chess.pgn\n",
    "import chess.svg\n",
    "import io  # Import the io module for handling streams\n",
    "from svglib.svglib import svg2rlg\n",
    "from reportlab.graphics import renderPDF\n",
    "\n",
    "# PGN game\n",
    "pgn_ = '''1. e3 d5 2. Nf3 e6 3. Be2 Bd6 4. O-O Nf6 5. b3 O-O 6. Bb2 Nc6 7. c4 dxc4 8. Bxc4\n",
    "e5 9. Bb5 e4 10. Bxc6 exf3 11. Bxf3 Be6 12. Bxb7 Rb8 13. Bc6 Nd5 14. Bxd5 Bxd5\n",
    "15. Nc3 Bb7 16. Nb5 Be7 17. Rc1 c6 18. Nxa7 c5 19. Be5 Qd5 20. Bxb8 Qxg2# 0-1\n",
    "'''\n",
    "\n",
    "# Load PGN into a game object\n",
    "pgn_io = io.StringIO(pgn_)\n",
    "game = chess.pgn.read_game(pgn_io)\n",
    "\n",
    "# Initialize the board from the starting position\n",
    "board = game.board()\n",
    "\n",
    "# Function to convert SVG to PDF\n",
    "def svg_to_pdf(svg_data, filename):\n",
    "    drawing = svg2rlg(io.StringIO(svg_data))\n",
    "    renderPDF.drawToFile(drawing, filename)\n",
    "\n",
    "# Iterate over moves, apply them to the board, and generate FEN and PDF\n",
    "for move_number, move in enumerate(game.mainline_moves(), start=1):\n",
    "    board.push(move)  # Apply move to the board\n",
    "\n",
    "    # Generate SVG representation of the current board with black at the bottom\n",
    "    svg = chess.svg.board(board, size=350, orientation=chess.BLACK)\n",
    "\n",
    "    # Create PDF filename for each move\n",
    "    filename = f\"chess_position_{move_number}.pdf\"\n",
    "\n",
    "    # Convert SVG to PDF\n",
    "    svg_to_pdf(svg, filename)\n",
    "\n",
    "    print(f\"PDF of the chess position for move {move_number} created successfully!\")\n",
    "\n",
    "print(\"All positions have been successfully converted to PDFs.\")"
   ]
  },
  {
   "cell_type": "code",
   "execution_count": null,
   "id": "9cb8f566-f443-40aa-9d91-bcd807bf188e",
   "metadata": {},
   "outputs": [],
   "source": [
    "\n",
    "bash_ = \"\"\"\n",
    "convert_pdfs_to_pngs() {\n",
    "    local pdf\n",
    "    for pdf in *.pdf; do\n",
    "        # Extract the base name of the file (without extension)\n",
    "        local base_name=\"${pdf%.pdf}\"\n",
    "        # Convert the PDF to PNG using ImageMagick\n",
    "        magick \"$pdf\" \"${base_name}.png\"\n",
    "        echo \"Converted $pdf to ${base_name}.png\"\n",
    "    done\n",
    "}\n",
    "\"\"\""
   ]
  },
  {
   "cell_type": "code",
   "execution_count": null,
   "id": "1e20ba0c-9982-47b8-9a9a-85eb2c02af7c",
   "metadata": {},
   "outputs": [],
   "source": []
  },
  {
   "cell_type": "markdown",
   "id": "06d7ddc0-8067-4739-a7a5-4616d54e1bdd",
   "metadata": {},
   "source": [
    "this converts .pdf to .png files"
   ]
  },
  {
   "cell_type": "code",
   "execution_count": 25,
   "id": "1ba829c4-45d4-4d21-ad16-946f51df15f1",
   "metadata": {},
   "outputs": [
    {
     "name": "stdout",
     "output_type": "stream",
     "text": [
      "Skipping invalid chess position: see 01-kings_pawn_4_center opening\n",
      "Image of the text created successfully as image1.png!\n",
      "PDF of the chess position created successfully as image2.pdf!\n",
      "Skipping invalid chess position: advantage lost should go f3 with the knight\n",
      "Image of the text created successfully as image3.png!\n",
      "PDF of the chess position created successfully as image4.pdf!\n",
      "Skipping invalid chess position: black has a -1 advantage, should continue chomping with pawn to c-file\n",
      "Image of the text created successfully as image5.png!\n"
     ]
    }
   ],
   "source": [
    "import chess\n",
    "import chess.svg\n",
    "import io\n",
    "from svglib.svglib import svg2rlg\n",
    "from reportlab.graphics import renderPDF\n",
    "import matplotlib.pyplot as plt\n",
    "\n",
    "# Starting count for the image filenames, 1 is default\n",
    "count_ = 1\n",
    "\n",
    "# String containing multiple chess positions and text\n",
    "moves_ = \"\"\"\n",
    "see 01-kings_pawn_4_center opening\n",
    "r1bqkb1r/ppp2ppp/2B2n2/3pp3/3PP3/2P5/PP3PPP/RNBQK1NR b KQkq - 0 5\n",
    "advantage lost should go f3 with the knight\n",
    "r1bqkb1r/p1p2ppp/2p2n2/3p4/3pP3/2P5/PP1N1PPP/R1BQK1NR w KQkq - 0 7\n",
    "black has a -1 advantage, should continue chomping with pawn to c-file\n",
    "\"\"\"\n",
    "\n",
    "# Split the string into individual positions and texts\n",
    "positions = moves_.strip().split(\"\\n\")\n",
    "\n",
    "# Iterate over the positions and generate PDFs or images\n",
    "for i, position in enumerate(positions):\n",
    "    position = position.strip()\n",
    "    file_index = count_ + i\n",
    "    \n",
    "    if \" \" in position or \"/\" in position:  # Check if it's a chess position\n",
    "        try:\n",
    "            # Create a chess board with the specific position\n",
    "            board = chess.Board(position)\n",
    "\n",
    "            # Generate the SVG representation of the board\n",
    "            #svg = chess.svg.board(board, size=350, orientation=chess.BLACK)\n",
    "            svg = chess.svg.board(board, size=350)\n",
    "\n",
    "            # Convert SVG to Drawing\n",
    "            drawing = svg2rlg(io.StringIO(svg))\n",
    "\n",
    "            # Render Drawing to PDF with a unique filename\n",
    "            pdf_filename = f\"image{file_index}.pdf\"\n",
    "            renderPDF.drawToFile(drawing, pdf_filename)\n",
    "\n",
    "            print(f\"PDF of the chess position created successfully as {pdf_filename}!\")\n",
    "        \n",
    "        except ValueError:\n",
    "            # Handle invalid chess position\n",
    "            print(f\"Skipping invalid chess position: {position}\")\n",
    "             # Create an image with the text\n",
    "            fig, ax = plt.subplots()\n",
    "            ax.text(0.5, 0.5, position, fontsize=45, ha='center', va='center')\n",
    "            ax.axis('off')\n",
    "        \n",
    "            # Save the image\n",
    "            image_filename = f\"image{file_index}.png\"\n",
    "            plt.savefig(image_filename, bbox_inches='tight', pad_inches=0.1)\n",
    "            plt.close(fig)\n",
    "        \n",
    "            print(f\"Image of the text created successfully as {image_filename}!\")\n",
    "       "
   ]
  },
  {
   "cell_type": "code",
   "execution_count": 26,
   "id": "5bd737ef-542c-4b11-bbfc-f4f580b6d26c",
   "metadata": {},
   "outputs": [
    {
     "name": "stdout",
     "output_type": "stream",
     "text": [
      "PDF of the chess position for move 1 created successfully as image6.pdf!\n",
      "PDF of the chess position for move 2 created successfully as image7.pdf!\n",
      "PDF of the chess position for move 3 created successfully as image8.pdf!\n",
      "PDF of the chess position for move 4 created successfully as image9.pdf!\n",
      "PDF of the chess position for move 5 created successfully as image10.pdf!\n",
      "PDF of the chess position for move 6 created successfully as image11.pdf!\n",
      "PDF of the chess position for move 7 created successfully as image12.pdf!\n",
      "PDF of the chess position for move 8 created successfully as image13.pdf!\n",
      "PDF of the chess position for move 9 created successfully as image14.pdf!\n",
      "PDF of the chess position for move 10 created successfully as image15.pdf!\n",
      "PDF of the chess position for move 11 created successfully as image16.pdf!\n",
      "PDF of the chess position for move 12 created successfully as image17.pdf!\n",
      "PDF of the chess position for move 13 created successfully as image18.pdf!\n",
      "PDF of the chess position for move 14 created successfully as image19.pdf!\n",
      "PDF of the chess position for move 15 created successfully as image20.pdf!\n",
      "PDF of the chess position for move 16 created successfully as image21.pdf!\n",
      "PDF of the chess position for move 17 created successfully as image22.pdf!\n",
      "PDF of the chess position for move 18 created successfully as image23.pdf!\n",
      "PDF of the chess position for move 19 created successfully as image24.pdf!\n",
      "PDF of the chess position for move 20 created successfully as image25.pdf!\n",
      "PDF of the chess position for move 21 created successfully as image26.pdf!\n",
      "PDF of the chess position for move 22 created successfully as image27.pdf!\n",
      "PDF of the chess position for move 23 created successfully as image28.pdf!\n",
      "PDF of the chess position for move 24 created successfully as image29.pdf!\n",
      "PDF of the chess position for move 25 created successfully as image30.pdf!\n",
      "PDF of the chess position for move 26 created successfully as image31.pdf!\n",
      "PDF of the chess position for move 27 created successfully as image32.pdf!\n",
      "PDF of the chess position for move 28 created successfully as image33.pdf!\n",
      "PDF of the chess position for move 29 created successfully as image34.pdf!\n",
      "PDF of the chess position for move 30 created successfully as image35.pdf!\n",
      "PDF of the chess position for move 31 created successfully as image36.pdf!\n",
      "PDF of the chess position for move 32 created successfully as image37.pdf!\n",
      "PDF of the chess position for move 33 created successfully as image38.pdf!\n",
      "PDF of the chess position for move 34 created successfully as image39.pdf!\n",
      "PDF of the chess position for move 35 created successfully as image40.pdf!\n",
      "PDF of the chess position for move 36 created successfully as image41.pdf!\n",
      "PDF of the chess position for move 37 created successfully as image42.pdf!\n",
      "PDF of the chess position for move 38 created successfully as image43.pdf!\n",
      "PDF of the chess position for move 39 created successfully as image44.pdf!\n",
      "PDF of the chess position for move 40 created successfully as image45.pdf!\n",
      "PDF of the chess position for move 41 created successfully as image46.pdf!\n",
      "PDF of the chess position for move 42 created successfully as image47.pdf!\n",
      "PDF of the chess position for move 43 created successfully as image48.pdf!\n",
      "PDF of the chess position for move 44 created successfully as image49.pdf!\n",
      "PDF of the chess position for move 45 created successfully as image50.pdf!\n",
      "PDF of the chess position for move 46 created successfully as image51.pdf!\n",
      "PDF of the chess position for move 47 created successfully as image52.pdf!\n",
      "All positions have been successfully converted to PDFs.\n"
     ]
    }
   ],
   "source": [
    "import chess\n",
    "import chess.pgn\n",
    "import chess.svg\n",
    "import io\n",
    "from svglib.svglib import svg2rlg\n",
    "from reportlab.graphics import renderPDF\n",
    "\n",
    "# Starting count for the image filenames\n",
    "count_ = 6\n",
    "\n",
    "# PGN game\n",
    "pgn_ = '''1. e4 e5 2. d4 d5 3. c3 Nc6 4. Bb5 Nf6 5. Bxc6+ bxc6 6. Nd2 exd4 7. e5 Ng4 8. cxd4 Bb4 9. h3 Nh6 10. Nf3 c5 11. O-O cxd4 12. Nxd4 Bc5 13. N2b3 Bxd4 14. Nxd4 Be6 15. Nf3 c5 16. Bg5 f6 17. exf6 gxf6 18. Bxh6 Rg8 19. Qa4+ Bd7 20. Qh4 f5 21. Rfe1+ Kf7 22. Bg5 Qa5 23. Re7+ Kg6 24. Qh6 \n",
    "'''\n",
    "\n",
    "# Load PGN into a game object\n",
    "pgn_io = io.StringIO(pgn_)\n",
    "game = chess.pgn.read_game(pgn_io)\n",
    "\n",
    "# Initialize the board from the starting position\n",
    "board = game.board()\n",
    "\n",
    "# Function to convert SVG to PDF\n",
    "def svg_to_pdf(svg_data, filename):\n",
    "    drawing = svg2rlg(io.StringIO(svg_data))\n",
    "    renderPDF.drawToFile(drawing, filename)\n",
    "\n",
    "# Iterate over moves, apply them to the board, and generate FEN and PDF\n",
    "for move_number, move in enumerate(game.mainline_moves(), start=1):\n",
    "    board.push(move)  # Apply move to the board\n",
    "\n",
    "    # Generate SVG representation of the current board with black at the bottom\n",
    "    svg = chess.svg.board(board, size=350)\n",
    "    #svg = chess.svg.board(board, size=350, orientation=chess.BLACK)\n",
    "\n",
    "    # Create PDF filename for each move, starting from count_\n",
    "    file_index = count_ + move_number - 1\n",
    "    filename = f\"image{file_index}.pdf\"\n",
    "\n",
    "    # Convert SVG to PDF\n",
    "    svg_to_pdf(svg, filename)\n",
    "\n",
    "    print(f\"PDF of the chess position for move {move_number} created successfully as {filename}!\")\n",
    "\n",
    "print(\"All positions have been successfully converted to PDFs.\")"
   ]
  },
  {
   "cell_type": "code",
   "execution_count": null,
   "id": "99904558-7512-4e8f-9163-2374c9d98d18",
   "metadata": {},
   "outputs": [],
   "source": []
  }
 ],
 "metadata": {
  "kernelspec": {
   "display_name": "Python 3 (ipykernel)",
   "language": "python",
   "name": "python3"
  },
  "language_info": {
   "codemirror_mode": {
    "name": "ipython",
    "version": 3
   },
   "file_extension": ".py",
   "mimetype": "text/x-python",
   "name": "python",
   "nbconvert_exporter": "python",
   "pygments_lexer": "ipython3",
   "version": "3.11.9"
  }
 },
 "nbformat": 4,
 "nbformat_minor": 5
}
